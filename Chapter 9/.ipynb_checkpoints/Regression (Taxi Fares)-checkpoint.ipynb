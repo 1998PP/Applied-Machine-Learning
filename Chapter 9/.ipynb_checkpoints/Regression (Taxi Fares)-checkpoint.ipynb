{
 "cells": [
  {
   "cell_type": "markdown",
   "metadata": {},
   "source": [
    "# Regression with Neural Networks\n",
    "\n",
    "Imagine that you work for a taxi company, and that one of your customers' biggest complaints is that they don't know how much a ride will cost until it's over. That's because distance is just one of several factors from which taxi fares are calculated. You decide to do something about it by building a mobile app that customers can use when they climb into a taxi to estimate what the fare will be. To provide the smarts for the app, you intend to use the massive amounts of fare data the company has collected over the years to train a neural network. Let's use a portion of a larger taxi-fare dataset from New York City to train the network to predict a fare amount given the time of day, the pickup and dropoff locations, and other information."
   ]
  },
  {
   "cell_type": "markdown",
   "metadata": {},
   "source": [
    "## Load and prepare data\n",
    "\n",
    "Start by loading the dataset and shaping it so that it's suitable for use in machine learning. This dataset is a subset of a much larger dataset containing more than 100 million rows. Recently, the larger dataset was used in Kaggle's [New York City Taxi Fare Prediction](https://www.kaggle.com/c/new-york-city-taxi-fare-prediction) competition. The data requires a fair amount of prep work before it's of any use at all — something that is not uncommon in machine learning. Data scientists often find that collecting and preparing data accounts for 90% or more of their time."
   ]
  },
  {
   "cell_type": "code",
   "execution_count": 1,
   "metadata": {},
   "outputs": [
    {
     "data": {
      "text/html": [
       "<div>\n",
       "<style scoped>\n",
       "    .dataframe tbody tr th:only-of-type {\n",
       "        vertical-align: middle;\n",
       "    }\n",
       "\n",
       "    .dataframe tbody tr th {\n",
       "        vertical-align: top;\n",
       "    }\n",
       "\n",
       "    .dataframe thead th {\n",
       "        text-align: right;\n",
       "    }\n",
       "</style>\n",
       "<table border=\"1\" class=\"dataframe\">\n",
       "  <thead>\n",
       "    <tr style=\"text-align: right;\">\n",
       "      <th></th>\n",
       "      <th>key</th>\n",
       "      <th>fare_amount</th>\n",
       "      <th>pickup_datetime</th>\n",
       "      <th>pickup_longitude</th>\n",
       "      <th>pickup_latitude</th>\n",
       "      <th>dropoff_longitude</th>\n",
       "      <th>dropoff_latitude</th>\n",
       "      <th>passenger_count</th>\n",
       "    </tr>\n",
       "  </thead>\n",
       "  <tbody>\n",
       "    <tr>\n",
       "      <th>0</th>\n",
       "      <td>2014-06-15 17:11:00.000000107</td>\n",
       "      <td>7.0</td>\n",
       "      <td>2014-06-15 17:11:00 UTC</td>\n",
       "      <td>-73.995420</td>\n",
       "      <td>40.759662</td>\n",
       "      <td>-73.987607</td>\n",
       "      <td>40.751247</td>\n",
       "      <td>1</td>\n",
       "    </tr>\n",
       "    <tr>\n",
       "      <th>1</th>\n",
       "      <td>2011-03-14 22:43:00.00000095</td>\n",
       "      <td>4.9</td>\n",
       "      <td>2011-03-14 22:43:00 UTC</td>\n",
       "      <td>-73.993552</td>\n",
       "      <td>40.731110</td>\n",
       "      <td>-73.998497</td>\n",
       "      <td>40.737200</td>\n",
       "      <td>5</td>\n",
       "    </tr>\n",
       "    <tr>\n",
       "      <th>2</th>\n",
       "      <td>2011-02-14 15:14:00.00000067</td>\n",
       "      <td>6.1</td>\n",
       "      <td>2011-02-14 15:14:00 UTC</td>\n",
       "      <td>-73.972380</td>\n",
       "      <td>40.749527</td>\n",
       "      <td>-73.990638</td>\n",
       "      <td>40.745328</td>\n",
       "      <td>1</td>\n",
       "    </tr>\n",
       "    <tr>\n",
       "      <th>3</th>\n",
       "      <td>2009-10-29 11:29:00.00000040</td>\n",
       "      <td>6.9</td>\n",
       "      <td>2009-10-29 11:29:00 UTC</td>\n",
       "      <td>-73.973703</td>\n",
       "      <td>40.763542</td>\n",
       "      <td>-73.984253</td>\n",
       "      <td>40.758603</td>\n",
       "      <td>5</td>\n",
       "    </tr>\n",
       "    <tr>\n",
       "      <th>4</th>\n",
       "      <td>2011-07-02 10:38:00.00000028</td>\n",
       "      <td>10.5</td>\n",
       "      <td>2011-07-02 10:38:00 UTC</td>\n",
       "      <td>-73.921262</td>\n",
       "      <td>40.743615</td>\n",
       "      <td>-73.967383</td>\n",
       "      <td>40.765162</td>\n",
       "      <td>1</td>\n",
       "    </tr>\n",
       "  </tbody>\n",
       "</table>\n",
       "</div>"
      ],
      "text/plain": [
       "                             key  fare_amount          pickup_datetime  \\\n",
       "0  2014-06-15 17:11:00.000000107          7.0  2014-06-15 17:11:00 UTC   \n",
       "1   2011-03-14 22:43:00.00000095          4.9  2011-03-14 22:43:00 UTC   \n",
       "2   2011-02-14 15:14:00.00000067          6.1  2011-02-14 15:14:00 UTC   \n",
       "3   2009-10-29 11:29:00.00000040          6.9  2009-10-29 11:29:00 UTC   \n",
       "4   2011-07-02 10:38:00.00000028         10.5  2011-07-02 10:38:00 UTC   \n",
       "\n",
       "   pickup_longitude  pickup_latitude  dropoff_longitude  dropoff_latitude  \\\n",
       "0        -73.995420        40.759662         -73.987607         40.751247   \n",
       "1        -73.993552        40.731110         -73.998497         40.737200   \n",
       "2        -73.972380        40.749527         -73.990638         40.745328   \n",
       "3        -73.973703        40.763542         -73.984253         40.758603   \n",
       "4        -73.921262        40.743615         -73.967383         40.765162   \n",
       "\n",
       "   passenger_count  \n",
       "0                1  \n",
       "1                5  \n",
       "2                1  \n",
       "3                5  \n",
       "4                1  "
      ]
     },
     "execution_count": 1,
     "metadata": {},
     "output_type": "execute_result"
    }
   ],
   "source": [
    "import pandas as pd\n",
    "\n",
    "df = pd.read_csv('Data/taxi-fares.csv')\n",
    "df.head()"
   ]
  },
  {
   "cell_type": "markdown",
   "metadata": {},
   "source": [
    "How many rows and columns does the dataset contain?"
   ]
  },
  {
   "cell_type": "code",
   "execution_count": 2,
   "metadata": {},
   "outputs": [
    {
     "data": {
      "text/plain": [
       "(55368, 8)"
      ]
     },
     "execution_count": 2,
     "metadata": {},
     "output_type": "execute_result"
    }
   ],
   "source": [
    "df.shape"
   ]
  },
  {
   "cell_type": "markdown",
   "metadata": {},
   "source": [
    "Are any of the columns missing values?"
   ]
  },
  {
   "cell_type": "code",
   "execution_count": 3,
   "metadata": {},
   "outputs": [
    {
     "name": "stdout",
     "output_type": "stream",
     "text": [
      "<class 'pandas.core.frame.DataFrame'>\n",
      "RangeIndex: 55368 entries, 0 to 55367\n",
      "Data columns (total 8 columns):\n",
      " #   Column             Non-Null Count  Dtype  \n",
      "---  ------             --------------  -----  \n",
      " 0   key                55368 non-null  object \n",
      " 1   fare_amount        55368 non-null  float64\n",
      " 2   pickup_datetime    55368 non-null  object \n",
      " 3   pickup_longitude   55368 non-null  float64\n",
      " 4   pickup_latitude    55368 non-null  float64\n",
      " 5   dropoff_longitude  55368 non-null  float64\n",
      " 6   dropoff_latitude   55368 non-null  float64\n",
      " 7   passenger_count    55368 non-null  int64  \n",
      "dtypes: float64(5), int64(1), object(2)\n",
      "memory usage: 3.4+ MB\n"
     ]
    }
   ],
   "source": [
    "df.info()"
   ]
  },
  {
   "cell_type": "markdown",
   "metadata": {},
   "source": [
    "Draw a histogram showing how many rows contain a passenger count of 1, how many contain a passenger count of 2, and so on."
   ]
  },
  {
   "cell_type": "code",
   "execution_count": 4,
   "metadata": {},
   "outputs": [
    {
     "data": {
      "text/plain": [
       "<AxesSubplot:xlabel='passenger_count', ylabel='count'>"
      ]
     },
     "execution_count": 4,
     "metadata": {},
     "output_type": "execute_result"
    },
    {
     "data": {
      "image/png": "[encoded data removed]",
      "text/plain": [
       "<Figure size 432x288 with 1 Axes>"
      ]
     },
     "metadata": {},
     "output_type": "display_data"
    }
   ],
   "source": [
    "%matplotlib inline\n",
    "import matplotlib.pyplot as plt\n",
    "import seaborn as sns\n",
    "sns.set()\n",
    "\n",
    "sns.countplot(x=df['passenger_count'])"
   ]
  },
  {
   "cell_type": "markdown",
   "metadata": {},
   "source": [
    "Most of the rows in the dataset have a passenger count of 1. Remove all rows with multiple passengers and remove the \"key\" column from the dataset."
   ]
  },
  {
   "cell_type": "code",
   "execution_count": 5,
   "metadata": {},
   "outputs": [
    {
     "data": {
      "text/html": [
       "<div>\n",
       "<style scoped>\n",
       "    .dataframe tbody tr th:only-of-type {\n",
       "        vertical-align: middle;\n",
       "    }\n",
       "\n",
       "    .dataframe tbody tr th {\n",
       "        vertical-align: top;\n",
       "    }\n",
       "\n",
       "    .dataframe thead th {\n",
       "        text-align: right;\n",
       "    }\n",
       "</style>\n",
       "<table border=\"1\" class=\"dataframe\">\n",
       "  <thead>\n",
       "    <tr style=\"text-align: right;\">\n",
       "      <th></th>\n",
       "      <th>fare_amount</th>\n",
       "      <th>pickup_datetime</th>\n",
       "      <th>pickup_longitude</th>\n",
       "      <th>pickup_latitude</th>\n",
       "      <th>dropoff_longitude</th>\n",
       "      <th>dropoff_latitude</th>\n",
       "    </tr>\n",
       "  </thead>\n",
       "  <tbody>\n",
       "    <tr>\n",
       "      <th>0</th>\n",
       "      <td>7.0</td>\n",
       "      <td>2014-06-15 17:11:00 UTC</td>\n",
       "      <td>-73.995420</td>\n",
       "      <td>40.759662</td>\n",
       "      <td>-73.987607</td>\n",
       "      <td>40.751247</td>\n",
       "    </tr>\n",
       "    <tr>\n",
       "      <th>2</th>\n",
       "      <td>6.1</td>\n",
       "      <td>2011-02-14 15:14:00 UTC</td>\n",
       "      <td>-73.972380</td>\n",
       "      <td>40.749527</td>\n",
       "      <td>-73.990638</td>\n",
       "      <td>40.745328</td>\n",
       "    </tr>\n",
       "    <tr>\n",
       "      <th>4</th>\n",
       "      <td>10.5</td>\n",
       "      <td>2011-07-02 10:38:00 UTC</td>\n",
       "      <td>-73.921262</td>\n",
       "      <td>40.743615</td>\n",
       "      <td>-73.967383</td>\n",
       "      <td>40.765162</td>\n",
       "    </tr>\n",
       "    <tr>\n",
       "      <th>5</th>\n",
       "      <td>15.3</td>\n",
       "      <td>2011-12-09 20:03:00 UTC</td>\n",
       "      <td>-73.973500</td>\n",
       "      <td>40.792610</td>\n",
       "      <td>-73.936035</td>\n",
       "      <td>40.856548</td>\n",
       "    </tr>\n",
       "    <tr>\n",
       "      <th>8</th>\n",
       "      <td>7.7</td>\n",
       "      <td>2011-04-02 01:05:15 UTC</td>\n",
       "      <td>-73.979564</td>\n",
       "      <td>40.735405</td>\n",
       "      <td>-73.955686</td>\n",
       "      <td>40.768065</td>\n",
       "    </tr>\n",
       "  </tbody>\n",
       "</table>\n",
       "</div>"
      ],
      "text/plain": [
       "   fare_amount          pickup_datetime  pickup_longitude  pickup_latitude  \\\n",
       "0          7.0  2014-06-15 17:11:00 UTC        -73.995420        40.759662   \n",
       "2          6.1  2011-02-14 15:14:00 UTC        -73.972380        40.749527   \n",
       "4         10.5  2011-07-02 10:38:00 UTC        -73.921262        40.743615   \n",
       "5         15.3  2011-12-09 20:03:00 UTC        -73.973500        40.792610   \n",
       "8          7.7  2011-04-02 01:05:15 UTC        -73.979564        40.735405   \n",
       "\n",
       "   dropoff_longitude  dropoff_latitude  \n",
       "0         -73.987607         40.751247  \n",
       "2         -73.990638         40.745328  \n",
       "4         -73.967383         40.765162  \n",
       "5         -73.936035         40.856548  \n",
       "8         -73.955686         40.768065  "
      ]
     },
     "execution_count": 5,
     "metadata": {},
     "output_type": "execute_result"
    }
   ],
   "source": [
    "df = df[df['passenger_count'] == 1]\n",
    "df = df.drop(['key', 'passenger_count'], axis=1)\n",
    "df.head()"
   ]
  },
  {
   "cell_type": "markdown",
   "metadata": {},
   "source": [
    "How many rows and columns are left in the dataset?"
   ]
  },
  {
   "cell_type": "code",
   "execution_count": 6,
   "metadata": {},
   "outputs": [
    {
     "data": {
      "text/plain": [
       "(38233, 6)"
      ]
     },
     "execution_count": 6,
     "metadata": {},
     "output_type": "execute_result"
    }
   ],
   "source": [
    "df.shape"
   ]
  },
  {
   "cell_type": "markdown",
   "metadata": {},
   "source": [
    "Find out how much influence input variables such as `latitude` and `longitude` have on the values in the \"fare_amount\" column."
   ]
  },
  {
   "cell_type": "code",
   "execution_count": 7,
   "metadata": {},
   "outputs": [
    {
     "data": {
      "text/plain": [
       "fare_amount          1.000000\n",
       "dropoff_longitude    0.020438\n",
       "pickup_longitude     0.015742\n",
       "pickup_latitude     -0.015915\n",
       "dropoff_latitude    -0.021711\n",
       "Name: fare_amount, dtype: float64"
      ]
     },
     "execution_count": 7,
     "metadata": {},
     "output_type": "execute_result"
    }
   ],
   "source": [
    "corr_matrix = df.corr()\n",
    "corr_matrix['fare_amount'].sort_values(ascending=False)"
   ]
  },
  {
   "cell_type": "markdown",
   "metadata": {},
   "source": [
    "The numbers don't look very encouraging. Latitudes and longitudes have little to do with fare amounts, at least in their present form. And yet intuitively, they should have a *lot* do with fare amounts since they specify starting and ending points and longer rides incur higher fares.\n",
    "\n",
    "Now comes the fun part: creating whole new columns of data that have more impact on the outcome — columns whose values are computed from values in other columns. Add columns specifying the day of the week (0=Monday, 1=Sunday, and so on), the hour of the day that the passenger was picked up (0-23), and the distance (through the air, not on the street) in miles that the ride covered. To compute distances, this code assumes that most rides are short and that it is therefore safe to ignore the curvature of the earth."
   ]
  },
  {
   "cell_type": "code",
   "execution_count": 8,
   "metadata": {},
   "outputs": [
    {
     "data": {
      "text/html": [
       "<div>\n",
       "<style scoped>\n",
       "    .dataframe tbody tr th:only-of-type {\n",
       "        vertical-align: middle;\n",
       "    }\n",
       "\n",
       "    .dataframe tbody tr th {\n",
       "        vertical-align: top;\n",
       "    }\n",
       "\n",
       "    .dataframe thead th {\n",
       "        text-align: right;\n",
       "    }\n",
       "</style>\n",
       "<table border=\"1\" class=\"dataframe\">\n",
       "  <thead>\n",
       "    <tr style=\"text-align: right;\">\n",
       "      <th></th>\n",
       "      <th>fare_amount</th>\n",
       "      <th>pickup_datetime</th>\n",
       "      <th>pickup_longitude</th>\n",
       "      <th>pickup_latitude</th>\n",
       "      <th>dropoff_longitude</th>\n",
       "      <th>dropoff_latitude</th>\n",
       "      <th>day_of_week</th>\n",
       "      <th>pickup_time</th>\n",
       "      <th>distance</th>\n",
       "    </tr>\n",
       "  </thead>\n",
       "  <tbody>\n",
       "    <tr>\n",
       "      <th>0</th>\n",
       "      <td>7.0</td>\n",
       "      <td>2014-06-15 17:11:00 UTC</td>\n",
       "      <td>-73.995420</td>\n",
       "      <td>40.759662</td>\n",
       "      <td>-73.987607</td>\n",
       "      <td>40.751247</td>\n",
       "      <td>6.0</td>\n",
       "      <td>17.0</td>\n",
       "      <td>0.720497</td>\n",
       "    </tr>\n",
       "    <tr>\n",
       "      <th>2</th>\n",
       "      <td>6.1</td>\n",
       "      <td>2011-02-14 15:14:00 UTC</td>\n",
       "      <td>-73.972380</td>\n",
       "      <td>40.749527</td>\n",
       "      <td>-73.990638</td>\n",
       "      <td>40.745328</td>\n",
       "      <td>0.0</td>\n",
       "      <td>15.0</td>\n",
       "      <td>1.038136</td>\n",
       "    </tr>\n",
       "    <tr>\n",
       "      <th>4</th>\n",
       "      <td>10.5</td>\n",
       "      <td>2011-07-02 10:38:00 UTC</td>\n",
       "      <td>-73.921262</td>\n",
       "      <td>40.743615</td>\n",
       "      <td>-73.967383</td>\n",
       "      <td>40.765162</td>\n",
       "      <td>5.0</td>\n",
       "      <td>10.0</td>\n",
       "      <td>2.924341</td>\n",
       "    </tr>\n",
       "    <tr>\n",
       "      <th>5</th>\n",
       "      <td>15.3</td>\n",
       "      <td>2011-12-09 20:03:00 UTC</td>\n",
       "      <td>-73.973500</td>\n",
       "      <td>40.792610</td>\n",
       "      <td>-73.936035</td>\n",
       "      <td>40.856548</td>\n",
       "      <td>4.0</td>\n",
       "      <td>20.0</td>\n",
       "      <td>4.862893</td>\n",
       "    </tr>\n",
       "    <tr>\n",
       "      <th>8</th>\n",
       "      <td>7.7</td>\n",
       "      <td>2011-04-02 01:05:15 UTC</td>\n",
       "      <td>-73.979564</td>\n",
       "      <td>40.735405</td>\n",
       "      <td>-73.955686</td>\n",
       "      <td>40.768065</td>\n",
       "      <td>5.0</td>\n",
       "      <td>1.0</td>\n",
       "      <td>2.603493</td>\n",
       "    </tr>\n",
       "  </tbody>\n",
       "</table>\n",
       "</div>"
      ],
      "text/plain": [
       "   fare_amount          pickup_datetime  pickup_longitude  pickup_latitude  \\\n",
       "0          7.0  2014-06-15 17:11:00 UTC        -73.995420        40.759662   \n",
       "2          6.1  2011-02-14 15:14:00 UTC        -73.972380        40.749527   \n",
       "4         10.5  2011-07-02 10:38:00 UTC        -73.921262        40.743615   \n",
       "5         15.3  2011-12-09 20:03:00 UTC        -73.973500        40.792610   \n",
       "8          7.7  2011-04-02 01:05:15 UTC        -73.979564        40.735405   \n",
       "\n",
       "   dropoff_longitude  dropoff_latitude  day_of_week  pickup_time  distance  \n",
       "0         -73.987607         40.751247          6.0         17.0  0.720497  \n",
       "2         -73.990638         40.745328          0.0         15.0  1.038136  \n",
       "4         -73.967383         40.765162          5.0         10.0  2.924341  \n",
       "5         -73.936035         40.856548          4.0         20.0  4.862893  \n",
       "8         -73.955686         40.768065          5.0          1.0  2.603493  "
      ]
     },
     "execution_count": 8,
     "metadata": {},
     "output_type": "execute_result"
    }
   ],
   "source": [
    "import datetime\n",
    "from math import sqrt\n",
    "\n",
    "for i, row in df.iterrows():\n",
    "    dt = datetime.datetime.strptime(row['pickup_datetime'], '%Y-%m-%d %H:%M:%S UTC')\n",
    "    df.at[i, 'day_of_week'] = dt.weekday()\n",
    "    df.at[i, 'pickup_time'] = dt.hour\n",
    "    x = (row['dropoff_longitude'] - row['pickup_longitude']) * 54.6 # 1 degree == 54.6 miles\n",
    "    y = (row['dropoff_latitude'] - row['pickup_latitude']) * 69.0   # 1 degree == 69 miles\n",
    "    distance = sqrt(x**2 + y**2)\n",
    "    df.at[i, 'distance'] = distance\n",
    "    \n",
    "df.head()"
   ]
  },
  {
   "cell_type": "markdown",
   "metadata": {},
   "source": [
    "Remove columns that are no longer needed."
   ]
  },
  {
   "cell_type": "code",
   "execution_count": 9,
   "metadata": {},
   "outputs": [
    {
     "data": {
      "text/html": [
       "<div>\n",
       "<style scoped>\n",
       "    .dataframe tbody tr th:only-of-type {\n",
       "        vertical-align: middle;\n",
       "    }\n",
       "\n",
       "    .dataframe tbody tr th {\n",
       "        vertical-align: top;\n",
       "    }\n",
       "\n",
       "    .dataframe thead th {\n",
       "        text-align: right;\n",
       "    }\n",
       "</style>\n",
       "<table border=\"1\" class=\"dataframe\">\n",
       "  <thead>\n",
       "    <tr style=\"text-align: right;\">\n",
       "      <th></th>\n",
       "      <th>fare_amount</th>\n",
       "      <th>day_of_week</th>\n",
       "      <th>pickup_time</th>\n",
       "      <th>distance</th>\n",
       "    </tr>\n",
       "  </thead>\n",
       "  <tbody>\n",
       "    <tr>\n",
       "      <th>0</th>\n",
       "      <td>7.0</td>\n",
       "      <td>6.0</td>\n",
       "      <td>17.0</td>\n",
       "      <td>0.720497</td>\n",
       "    </tr>\n",
       "    <tr>\n",
       "      <th>2</th>\n",
       "      <td>6.1</td>\n",
       "      <td>0.0</td>\n",
       "      <td>15.0</td>\n",
       "      <td>1.038136</td>\n",
       "    </tr>\n",
       "    <tr>\n",
       "      <th>4</th>\n",
       "      <td>10.5</td>\n",
       "      <td>5.0</td>\n",
       "      <td>10.0</td>\n",
       "      <td>2.924341</td>\n",
       "    </tr>\n",
       "    <tr>\n",
       "      <th>5</th>\n",
       "      <td>15.3</td>\n",
       "      <td>4.0</td>\n",
       "      <td>20.0</td>\n",
       "      <td>4.862893</td>\n",
       "    </tr>\n",
       "    <tr>\n",
       "      <th>8</th>\n",
       "      <td>7.7</td>\n",
       "      <td>5.0</td>\n",
       "      <td>1.0</td>\n",
       "      <td>2.603493</td>\n",
       "    </tr>\n",
       "  </tbody>\n",
       "</table>\n",
       "</div>"
      ],
      "text/plain": [
       "   fare_amount  day_of_week  pickup_time  distance\n",
       "0          7.0          6.0         17.0  0.720497\n",
       "2          6.1          0.0         15.0  1.038136\n",
       "4         10.5          5.0         10.0  2.924341\n",
       "5         15.3          4.0         20.0  4.862893\n",
       "8          7.7          5.0          1.0  2.603493"
      ]
     },
     "execution_count": 9,
     "metadata": {},
     "output_type": "execute_result"
    }
   ],
   "source": [
    "df.drop(columns=['pickup_datetime', 'pickup_longitude', 'pickup_latitude', 'dropoff_longitude', 'dropoff_latitude'], inplace=True)\n",
    "df.head()"
   ]
  },
  {
   "cell_type": "markdown",
   "metadata": {},
   "source": [
    "Run a correlation again."
   ]
  },
  {
   "cell_type": "code",
   "execution_count": 10,
   "metadata": {},
   "outputs": [
    {
     "data": {
      "text/plain": [
       "fare_amount    1.000000\n",
       "distance       0.045873\n",
       "day_of_week    0.009196\n",
       "pickup_time   -0.019722\n",
       "Name: fare_amount, dtype: float64"
      ]
     },
     "execution_count": 10,
     "metadata": {},
     "output_type": "execute_result"
    }
   ],
   "source": [
    "corr_matrix = df.corr()\n",
    "corr_matrix[\"fare_amount\"].sort_values(ascending=False)"
   ]
  },
  {
   "cell_type": "markdown",
   "metadata": {},
   "source": [
    "There still isn't a strong correlation between distance traveled and fare amount. Perhaps this will provide some clue as to why:"
   ]
  },
  {
   "cell_type": "code",
   "execution_count": 11,
   "metadata": {},
   "outputs": [
    {
     "data": {
      "text/html": [
       "<div>\n",
       "<style scoped>\n",
       "    .dataframe tbody tr th:only-of-type {\n",
       "        vertical-align: middle;\n",
       "    }\n",
       "\n",
       "    .dataframe tbody tr th {\n",
       "        vertical-align: top;\n",
       "    }\n",
       "\n",
       "    .dataframe thead th {\n",
       "        text-align: right;\n",
       "    }\n",
       "</style>\n",
       "<table border=\"1\" class=\"dataframe\">\n",
       "  <thead>\n",
       "    <tr style=\"text-align: right;\">\n",
       "      <th></th>\n",
       "      <th>fare_amount</th>\n",
       "      <th>day_of_week</th>\n",
       "      <th>pickup_time</th>\n",
       "      <th>distance</th>\n",
       "    </tr>\n",
       "  </thead>\n",
       "  <tbody>\n",
       "    <tr>\n",
       "      <th>count</th>\n",
       "      <td>38233.000000</td>\n",
       "      <td>38233.000000</td>\n",
       "      <td>38233.000000</td>\n",
       "      <td>38233.000000</td>\n",
       "    </tr>\n",
       "    <tr>\n",
       "      <th>mean</th>\n",
       "      <td>11.214115</td>\n",
       "      <td>2.951534</td>\n",
       "      <td>13.387989</td>\n",
       "      <td>12.018397</td>\n",
       "    </tr>\n",
       "    <tr>\n",
       "      <th>std</th>\n",
       "      <td>9.703149</td>\n",
       "      <td>1.932809</td>\n",
       "      <td>6.446519</td>\n",
       "      <td>217.357022</td>\n",
       "    </tr>\n",
       "    <tr>\n",
       "      <th>min</th>\n",
       "      <td>-22.100000</td>\n",
       "      <td>0.000000</td>\n",
       "      <td>0.000000</td>\n",
       "      <td>0.000000</td>\n",
       "    </tr>\n",
       "    <tr>\n",
       "      <th>25%</th>\n",
       "      <td>6.000000</td>\n",
       "      <td>1.000000</td>\n",
       "      <td>9.000000</td>\n",
       "      <td>0.762116</td>\n",
       "    </tr>\n",
       "    <tr>\n",
       "      <th>50%</th>\n",
       "      <td>8.500000</td>\n",
       "      <td>3.000000</td>\n",
       "      <td>14.000000</td>\n",
       "      <td>1.331326</td>\n",
       "    </tr>\n",
       "    <tr>\n",
       "      <th>75%</th>\n",
       "      <td>12.500000</td>\n",
       "      <td>5.000000</td>\n",
       "      <td>19.000000</td>\n",
       "      <td>2.402226</td>\n",
       "    </tr>\n",
       "    <tr>\n",
       "      <th>max</th>\n",
       "      <td>256.000000</td>\n",
       "      <td>6.000000</td>\n",
       "      <td>23.000000</td>\n",
       "      <td>4923.837280</td>\n",
       "    </tr>\n",
       "  </tbody>\n",
       "</table>\n",
       "</div>"
      ],
      "text/plain": [
       "        fare_amount   day_of_week   pickup_time      distance\n",
       "count  38233.000000  38233.000000  38233.000000  38233.000000\n",
       "mean      11.214115      2.951534     13.387989     12.018397\n",
       "std        9.703149      1.932809      6.446519    217.357022\n",
       "min      -22.100000      0.000000      0.000000      0.000000\n",
       "25%        6.000000      1.000000      9.000000      0.762116\n",
       "50%        8.500000      3.000000     14.000000      1.331326\n",
       "75%       12.500000      5.000000     19.000000      2.402226\n",
       "max      256.000000      6.000000     23.000000   4923.837280"
      ]
     },
     "execution_count": 11,
     "metadata": {},
     "output_type": "execute_result"
    }
   ],
   "source": [
    "df.describe()"
   ]
  },
  {
   "cell_type": "markdown",
   "metadata": {},
   "source": [
    "The dataset contains outliers, and outliers frequently skew the results of machine-learning models (or prevent them from working at all). Filter the dataset by eliminating negative fare amounts and placing reasonable limits on fares and distance."
   ]
  },
  {
   "cell_type": "code",
   "execution_count": 12,
   "metadata": {},
   "outputs": [
    {
     "data": {
      "text/plain": [
       "(23298, 4)"
      ]
     },
     "execution_count": 12,
     "metadata": {},
     "output_type": "execute_result"
    }
   ],
   "source": [
    "df = df[(df['distance'] > 1.0) & (df['distance'] < 10.0)]\n",
    "df = df[(df['fare_amount'] > 0.0) & (df['fare_amount'] < 50.0)]\n",
    "df.shape"
   ]
  },
  {
   "cell_type": "markdown",
   "metadata": {},
   "source": [
    "Run a correlation again."
   ]
  },
  {
   "cell_type": "code",
   "execution_count": 13,
   "metadata": {},
   "outputs": [
    {
     "data": {
      "text/plain": [
       "fare_amount    1.000000\n",
       "distance       0.851913\n",
       "day_of_week   -0.003570\n",
       "pickup_time   -0.023085\n",
       "Name: fare_amount, dtype: float64"
      ]
     },
     "execution_count": 13,
     "metadata": {},
     "output_type": "execute_result"
    }
   ],
   "source": [
    "corr_matrix = df.corr()\n",
    "corr_matrix[\"fare_amount\"].sort_values(ascending=False)"
   ]
  },
  {
   "cell_type": "markdown",
   "metadata": {},
   "source": [
    "That looks better! The correlation between the day of the week, the hour of the day, and fare amount is still weak, but let's leave those columns in there since it makes sense that it might take longer to get from point A to point B during rush hour, or that traffic at 5:00 p.m. Friday might be different than traffic at 5:00 p.m. on Saturday."
   ]
  },
  {
   "cell_type": "markdown",
   "metadata": {},
   "source": [
    "# Train a neural network\n",
    "\n",
    "Now it's time build a neural network and train it with the data prepared in the previous exercise. We'll create two hidden layers with 512 neurons each and an input layer that accepts three values: distance, the day of the week, and the time of day. Since the model is designed to predict a fare amount, the output layer will have one neuron."
   ]
  },
  {
   "cell_type": "code",
   "execution_count": 14,
   "metadata": {},
   "outputs": [
    {
     "name": "stdout",
     "output_type": "stream",
     "text": [
      "Model: \"sequential\"\n",
      "_________________________________________________________________\n",
      " Layer (type)                Output Shape              Param #   \n",
      "=================================================================\n",
      " dense (Dense)               (None, 512)               2048      \n",
      "                                                                 \n",
      " dense_1 (Dense)             (None, 512)               262656    \n",
      "                                                                 \n",
      " dense_2 (Dense)             (None, 1)                 513       \n",
      "                                                                 \n",
      "=================================================================\n",
      "Total params: 265,217\n",
      "Trainable params: 265,217\n",
      "Non-trainable params: 0\n",
      "_________________________________________________________________\n"
     ]
    }
   ],
   "source": [
    "from tensorflow.keras.models import Sequential\n",
    "from tensorflow.keras.layers import Dense\n",
    " \n",
    "model = Sequential()\n",
    "model.add(Dense(512, activation='relu', input_dim=3))\n",
    "model.add(Dense(512, activation='relu'))\n",
    "model.add(Dense(1))\n",
    "model.compile(optimizer='adam', loss='mae', metrics=['mae'])\n",
    "model.summary()"
   ]
  },
  {
   "cell_type": "markdown",
   "metadata": {},
   "source": [
    "Extract the feature columns and the label column and train the model."
   ]
  },
  {
   "cell_type": "code",
   "execution_count": 15,
   "metadata": {},
   "outputs": [
    {
     "name": "stdout",
     "output_type": "stream",
     "text": [
      "Epoch 1/100\n",
      "187/187 [==============================] - 1s 3ms/step - loss: 2.8473 - mae: 2.8473 - val_loss: 2.3990 - val_mae: 2.3990\n",
      "Epoch 2/100\n",
      "187/187 [==============================] - 0s 2ms/step - loss: 2.3913 - mae: 2.3913 - val_loss: 2.3903 - val_mae: 2.3903\n",
      "Epoch 3/100\n",
      "187/187 [==============================] - 0s 2ms/step - loss: 2.3816 - mae: 2.3816 - val_loss: 2.3702 - val_mae: 2.3702\n",
      "Epoch 4/100\n",
      "187/187 [==============================] - 0s 2ms/step - loss: 2.3750 - mae: 2.3750 - val_loss: 2.3588 - val_mae: 2.3588\n",
      "Epoch 5/100\n",
      "187/187 [==============================] - 0s 2ms/step - loss: 2.3719 - mae: 2.3719 - val_loss: 2.3798 - val_mae: 2.3798\n",
      "Epoch 6/100\n",
      "187/187 [==============================] - 0s 2ms/step - loss: 2.3513 - mae: 2.3513 - val_loss: 2.3427 - val_mae: 2.3427\n",
      "Epoch 7/100\n",
      "187/187 [==============================] - 0s 2ms/step - loss: 2.3600 - mae: 2.3600 - val_loss: 2.3568 - val_mae: 2.3568\n",
      "Epoch 8/100\n",
      "187/187 [==============================] - 0s 2ms/step - loss: 2.3469 - mae: 2.3469 - val_loss: 2.3414 - val_mae: 2.3414\n",
      "Epoch 9/100\n",
      "187/187 [==============================] - 0s 2ms/step - loss: 2.3642 - mae: 2.3642 - val_loss: 2.3322 - val_mae: 2.3322\n",
      "Epoch 10/100\n",
      "187/187 [==============================] - 0s 2ms/step - loss: 2.3524 - mae: 2.3524 - val_loss: 2.3348 - val_mae: 2.3348\n",
      "Epoch 11/100\n",
      "187/187 [==============================] - 0s 2ms/step - loss: 2.3527 - mae: 2.3527 - val_loss: 2.4677 - val_mae: 2.4677\n",
      "Epoch 12/100\n",
      "187/187 [==============================] - 0s 2ms/step - loss: 2.3431 - mae: 2.3431 - val_loss: 2.3266 - val_mae: 2.3266\n",
      "Epoch 13/100\n",
      "187/187 [==============================] - 0s 2ms/step - loss: 2.3496 - mae: 2.3496 - val_loss: 2.3782 - val_mae: 2.3782\n",
      "Epoch 14/100\n",
      "187/187 [==============================] - 0s 2ms/step - loss: 2.3418 - mae: 2.3418 - val_loss: 2.3446 - val_mae: 2.3446\n",
      "Epoch 15/100\n",
      "187/187 [==============================] - 0s 2ms/step - loss: 2.3702 - mae: 2.3702 - val_loss: 2.3391 - val_mae: 2.3391\n",
      "Epoch 16/100\n",
      "187/187 [==============================] - 1s 3ms/step - loss: 2.3420 - mae: 2.3420 - val_loss: 2.3330 - val_mae: 2.3330\n",
      "Epoch 17/100\n",
      "187/187 [==============================] - 0s 2ms/step - loss: 2.3367 - mae: 2.3367 - val_loss: 2.3226 - val_mae: 2.3226\n",
      "Epoch 18/100\n",
      "187/187 [==============================] - 1s 3ms/step - loss: 2.3465 - mae: 2.3465 - val_loss: 2.3387 - val_mae: 2.3387\n",
      "Epoch 19/100\n",
      "187/187 [==============================] - 1s 3ms/step - loss: 2.3382 - mae: 2.3382 - val_loss: 2.3426 - val_mae: 2.3426\n",
      "Epoch 20/100\n",
      "187/187 [==============================] - 1s 3ms/step - loss: 2.3343 - mae: 2.3343 - val_loss: 2.3197 - val_mae: 2.3197\n",
      "Epoch 21/100\n",
      "187/187 [==============================] - 0s 2ms/step - loss: 2.3332 - mae: 2.3332 - val_loss: 2.3400 - val_mae: 2.3400\n",
      "Epoch 22/100\n",
      "187/187 [==============================] - 0s 2ms/step - loss: 2.3363 - mae: 2.3363 - val_loss: 2.3728 - val_mae: 2.3728\n",
      "Epoch 23/100\n",
      "187/187 [==============================] - 0s 2ms/step - loss: 2.3218 - mae: 2.3218 - val_loss: 2.3187 - val_mae: 2.3187\n",
      "Epoch 24/100\n",
      "187/187 [==============================] - 0s 2ms/step - loss: 2.3346 - mae: 2.3346 - val_loss: 2.3085 - val_mae: 2.3085\n",
      "Epoch 25/100\n",
      "187/187 [==============================] - 0s 2ms/step - loss: 2.3441 - mae: 2.3441 - val_loss: 2.4809 - val_mae: 2.4809\n",
      "Epoch 26/100\n",
      "187/187 [==============================] - 0s 2ms/step - loss: 2.3326 - mae: 2.3326 - val_loss: 2.3844 - val_mae: 2.3844\n",
      "Epoch 27/100\n",
      "187/187 [==============================] - 0s 3ms/step - loss: 2.3331 - mae: 2.3331 - val_loss: 2.3131 - val_mae: 2.3131\n",
      "Epoch 28/100\n",
      "187/187 [==============================] - 0s 2ms/step - loss: 2.3202 - mae: 2.3202 - val_loss: 2.3040 - val_mae: 2.3040\n",
      "Epoch 29/100\n",
      "187/187 [==============================] - 0s 3ms/step - loss: 2.3272 - mae: 2.3272 - val_loss: 2.3647 - val_mae: 2.3647\n",
      "Epoch 30/100\n",
      "187/187 [==============================] - 0s 3ms/step - loss: 2.3292 - mae: 2.3292 - val_loss: 2.3119 - val_mae: 2.3119\n",
      "Epoch 31/100\n",
      "187/187 [==============================] - 0s 2ms/step - loss: 2.3193 - mae: 2.3193 - val_loss: 2.3137 - val_mae: 2.3137\n",
      "Epoch 32/100\n",
      "187/187 [==============================] - 0s 2ms/step - loss: 2.3284 - mae: 2.3284 - val_loss: 2.3302 - val_mae: 2.3302\n",
      "Epoch 33/100\n",
      "187/187 [==============================] - 0s 2ms/step - loss: 2.3297 - mae: 2.3297 - val_loss: 2.3082 - val_mae: 2.3082\n",
      "Epoch 34/100\n",
      "187/187 [==============================] - 0s 2ms/step - loss: 2.3323 - mae: 2.3323 - val_loss: 2.3464 - val_mae: 2.3464\n",
      "Epoch 35/100\n",
      "187/187 [==============================] - 0s 2ms/step - loss: 2.3233 - mae: 2.3233 - val_loss: 2.3093 - val_mae: 2.3093\n",
      "Epoch 36/100\n",
      "187/187 [==============================] - 0s 2ms/step - loss: 2.3178 - mae: 2.3178 - val_loss: 2.3029 - val_mae: 2.3029\n",
      "Epoch 37/100\n",
      "187/187 [==============================] - 0s 2ms/step - loss: 2.3177 - mae: 2.3177 - val_loss: 2.3002 - val_mae: 2.3002\n",
      "Epoch 38/100\n",
      "187/187 [==============================] - 0s 2ms/step - loss: 2.3255 - mae: 2.3255 - val_loss: 2.2977 - val_mae: 2.2977\n",
      "Epoch 39/100\n",
      "187/187 [==============================] - 0s 2ms/step - loss: 2.3142 - mae: 2.3142 - val_loss: 2.2992 - val_mae: 2.2992\n",
      "Epoch 40/100\n",
      "187/187 [==============================] - 0s 2ms/step - loss: 2.3186 - mae: 2.3186 - val_loss: 2.4178 - val_mae: 2.4178\n",
      "Epoch 41/100\n",
      "187/187 [==============================] - 0s 2ms/step - loss: 2.3167 - mae: 2.3167 - val_loss: 2.4373 - val_mae: 2.4373\n",
      "Epoch 42/100\n",
      "187/187 [==============================] - 0s 2ms/step - loss: 2.3223 - mae: 2.3223 - val_loss: 2.3075 - val_mae: 2.3075\n",
      "Epoch 43/100\n",
      "187/187 [==============================] - 0s 2ms/step - loss: 2.3459 - mae: 2.3459 - val_loss: 2.3121 - val_mae: 2.3121\n",
      "Epoch 44/100\n",
      "187/187 [==============================] - 0s 2ms/step - loss: 2.3086 - mae: 2.3086 - val_loss: 2.3129 - val_mae: 2.3129\n",
      "Epoch 45/100\n",
      "187/187 [==============================] - 0s 2ms/step - loss: 2.3234 - mae: 2.3234 - val_loss: 2.3007 - val_mae: 2.3007\n",
      "Epoch 46/100\n",
      "187/187 [==============================] - 0s 2ms/step - loss: 2.3102 - mae: 2.3102 - val_loss: 2.3386 - val_mae: 2.3386\n",
      "Epoch 47/100\n",
      "187/187 [==============================] - 0s 2ms/step - loss: 2.3135 - mae: 2.3135 - val_loss: 2.2982 - val_mae: 2.2982\n",
      "Epoch 48/100\n",
      "187/187 [==============================] - 0s 2ms/step - loss: 2.3123 - mae: 2.3123 - val_loss: 2.4001 - val_mae: 2.4001\n",
      "Epoch 49/100\n",
      "187/187 [==============================] - 0s 2ms/step - loss: 2.3116 - mae: 2.3116 - val_loss: 2.3506 - val_mae: 2.3506\n",
      "Epoch 50/100\n",
      "187/187 [==============================] - 0s 2ms/step - loss: 2.3087 - mae: 2.3087 - val_loss: 2.3405 - val_mae: 2.3405\n",
      "Epoch 51/100\n",
      "187/187 [==============================] - 0s 2ms/step - loss: 2.3137 - mae: 2.3137 - val_loss: 2.2939 - val_mae: 2.2939\n",
      "Epoch 52/100\n",
      "187/187 [==============================] - 0s 2ms/step - loss: 2.3031 - mae: 2.3031 - val_loss: 2.2907 - val_mae: 2.2907\n",
      "Epoch 53/100\n",
      "187/187 [==============================] - 0s 2ms/step - loss: 2.3106 - mae: 2.3106 - val_loss: 2.3199 - val_mae: 2.3199\n",
      "Epoch 54/100\n",
      "187/187 [==============================] - 0s 2ms/step - loss: 2.3053 - mae: 2.3053 - val_loss: 2.2956 - val_mae: 2.2956\n",
      "Epoch 55/100\n",
      "187/187 [==============================] - 0s 2ms/step - loss: 2.3053 - mae: 2.3053 - val_loss: 2.2838 - val_mae: 2.2838\n",
      "Epoch 56/100\n",
      "187/187 [==============================] - 0s 2ms/step - loss: 2.3054 - mae: 2.3054 - val_loss: 2.4545 - val_mae: 2.4545\n",
      "Epoch 57/100\n",
      "187/187 [==============================] - 0s 2ms/step - loss: 2.3098 - mae: 2.3098 - val_loss: 2.2845 - val_mae: 2.2845\n",
      "Epoch 58/100\n",
      "187/187 [==============================] - 0s 2ms/step - loss: 2.3100 - mae: 2.3100 - val_loss: 2.3379 - val_mae: 2.3379\n",
      "Epoch 59/100\n",
      "187/187 [==============================] - 0s 2ms/step - loss: 2.3098 - mae: 2.3098 - val_loss: 2.2815 - val_mae: 2.2815\n",
      "Epoch 60/100\n",
      "187/187 [==============================] - 0s 2ms/step - loss: 2.3016 - mae: 2.3016 - val_loss: 2.3742 - val_mae: 2.3742\n",
      "Epoch 61/100\n",
      "187/187 [==============================] - 0s 2ms/step - loss: 2.3083 - mae: 2.3083 - val_loss: 2.2742 - val_mae: 2.2742\n",
      "Epoch 62/100\n"
     ]
    },
    {
     "name": "stdout",
     "output_type": "stream",
     "text": [
      "187/187 [==============================] - 0s 2ms/step - loss: 2.2981 - mae: 2.2981 - val_loss: 2.2665 - val_mae: 2.2665\n",
      "Epoch 63/100\n",
      "187/187 [==============================] - 0s 3ms/step - loss: 2.2975 - mae: 2.2975 - val_loss: 2.3078 - val_mae: 2.3078\n",
      "Epoch 64/100\n",
      "187/187 [==============================] - 0s 3ms/step - loss: 2.2921 - mae: 2.2921 - val_loss: 2.3276 - val_mae: 2.3276\n",
      "Epoch 65/100\n",
      "187/187 [==============================] - 0s 3ms/step - loss: 2.2893 - mae: 2.2893 - val_loss: 2.3050 - val_mae: 2.3050\n",
      "Epoch 66/100\n",
      "187/187 [==============================] - 0s 3ms/step - loss: 2.2887 - mae: 2.2887 - val_loss: 2.2760 - val_mae: 2.2760\n",
      "Epoch 67/100\n",
      "187/187 [==============================] - 0s 3ms/step - loss: 2.3081 - mae: 2.3081 - val_loss: 2.2722 - val_mae: 2.2722\n",
      "Epoch 68/100\n",
      "187/187 [==============================] - 0s 2ms/step - loss: 2.2908 - mae: 2.2908 - val_loss: 2.3002 - val_mae: 2.3002\n",
      "Epoch 69/100\n",
      "187/187 [==============================] - 0s 2ms/step - loss: 2.2924 - mae: 2.2924 - val_loss: 2.2759 - val_mae: 2.2759\n",
      "Epoch 70/100\n",
      "187/187 [==============================] - 0s 2ms/step - loss: 2.2990 - mae: 2.2990 - val_loss: 2.2814 - val_mae: 2.2814\n",
      "Epoch 71/100\n",
      "187/187 [==============================] - 0s 3ms/step - loss: 2.2948 - mae: 2.2948 - val_loss: 2.3211 - val_mae: 2.3211\n",
      "Epoch 72/100\n",
      "187/187 [==============================] - 0s 2ms/step - loss: 2.2967 - mae: 2.2967 - val_loss: 2.2809 - val_mae: 2.2809\n",
      "Epoch 73/100\n",
      "187/187 [==============================] - 0s 3ms/step - loss: 2.2888 - mae: 2.2888 - val_loss: 2.2857 - val_mae: 2.2857\n",
      "Epoch 74/100\n",
      "187/187 [==============================] - 0s 2ms/step - loss: 2.3020 - mae: 2.3020 - val_loss: 2.2599 - val_mae: 2.2599\n",
      "Epoch 75/100\n",
      "187/187 [==============================] - 0s 2ms/step - loss: 2.2929 - mae: 2.2929 - val_loss: 2.2744 - val_mae: 2.2744\n",
      "Epoch 76/100\n",
      "187/187 [==============================] - 0s 3ms/step - loss: 2.2895 - mae: 2.2895 - val_loss: 2.2838 - val_mae: 2.2838\n",
      "Epoch 77/100\n",
      "187/187 [==============================] - 0s 2ms/step - loss: 2.2862 - mae: 2.2862 - val_loss: 2.2895 - val_mae: 2.2895\n",
      "Epoch 78/100\n",
      "187/187 [==============================] - 0s 2ms/step - loss: 2.2901 - mae: 2.2901 - val_loss: 2.3412 - val_mae: 2.3412\n",
      "Epoch 79/100\n",
      "187/187 [==============================] - 0s 3ms/step - loss: 2.2848 - mae: 2.2848 - val_loss: 2.3038 - val_mae: 2.3038\n",
      "Epoch 80/100\n",
      "187/187 [==============================] - 0s 2ms/step - loss: 2.3005 - mae: 2.3005 - val_loss: 2.2843 - val_mae: 2.2843\n",
      "Epoch 81/100\n",
      "187/187 [==============================] - 0s 2ms/step - loss: 2.2808 - mae: 2.2808 - val_loss: 2.2724 - val_mae: 2.2724\n",
      "Epoch 82/100\n",
      "187/187 [==============================] - 0s 2ms/step - loss: 2.2955 - mae: 2.2955 - val_loss: 2.2653 - val_mae: 2.2653\n",
      "Epoch 83/100\n",
      "187/187 [==============================] - 0s 3ms/step - loss: 2.2842 - mae: 2.2842 - val_loss: 2.2752 - val_mae: 2.2752\n",
      "Epoch 84/100\n",
      "187/187 [==============================] - 1s 3ms/step - loss: 2.2838 - mae: 2.2838 - val_loss: 2.2750 - val_mae: 2.2750\n",
      "Epoch 85/100\n",
      "187/187 [==============================] - 0s 2ms/step - loss: 2.2844 - mae: 2.2844 - val_loss: 2.2655 - val_mae: 2.2655\n",
      "Epoch 86/100\n",
      "187/187 [==============================] - 0s 2ms/step - loss: 2.2822 - mae: 2.2822 - val_loss: 2.2798 - val_mae: 2.2798\n",
      "Epoch 87/100\n",
      "187/187 [==============================] - 0s 3ms/step - loss: 2.2938 - mae: 2.2938 - val_loss: 2.3037 - val_mae: 2.3037\n",
      "Epoch 88/100\n",
      "187/187 [==============================] - 0s 2ms/step - loss: 2.3091 - mae: 2.3091 - val_loss: 2.2906 - val_mae: 2.2906\n",
      "Epoch 89/100\n",
      "187/187 [==============================] - 0s 2ms/step - loss: 2.2955 - mae: 2.2955 - val_loss: 2.2878 - val_mae: 2.2878\n",
      "Epoch 90/100\n",
      "187/187 [==============================] - 1s 3ms/step - loss: 2.2863 - mae: 2.2863 - val_loss: 2.2831 - val_mae: 2.2831\n",
      "Epoch 91/100\n",
      "187/187 [==============================] - 1s 3ms/step - loss: 2.2772 - mae: 2.2772 - val_loss: 2.2904 - val_mae: 2.2904\n",
      "Epoch 92/100\n",
      "187/187 [==============================] - 0s 3ms/step - loss: 2.2829 - mae: 2.2829 - val_loss: 2.2567 - val_mae: 2.2567\n",
      "Epoch 93/100\n",
      "187/187 [==============================] - 0s 3ms/step - loss: 2.2779 - mae: 2.2779 - val_loss: 2.2786 - val_mae: 2.2786\n",
      "Epoch 94/100\n",
      "187/187 [==============================] - 0s 3ms/step - loss: 2.2811 - mae: 2.2811 - val_loss: 2.2613 - val_mae: 2.2613\n",
      "Epoch 95/100\n",
      "187/187 [==============================] - 0s 2ms/step - loss: 2.2782 - mae: 2.2782 - val_loss: 2.2587 - val_mae: 2.2587\n",
      "Epoch 96/100\n",
      "187/187 [==============================] - 0s 2ms/step - loss: 2.2801 - mae: 2.2801 - val_loss: 2.2571 - val_mae: 2.2571\n",
      "Epoch 97/100\n",
      "187/187 [==============================] - 0s 2ms/step - loss: 2.2821 - mae: 2.2821 - val_loss: 2.2774 - val_mae: 2.2774\n",
      "Epoch 98/100\n",
      "187/187 [==============================] - 0s 2ms/step - loss: 2.2828 - mae: 2.2828 - val_loss: 2.2582 - val_mae: 2.2582\n",
      "Epoch 99/100\n",
      "187/187 [==============================] - 0s 2ms/step - loss: 2.2781 - mae: 2.2781 - val_loss: 2.2784 - val_mae: 2.2784\n",
      "Epoch 100/100\n",
      "187/187 [==============================] - 0s 2ms/step - loss: 2.2862 - mae: 2.2862 - val_loss: 2.2774 - val_mae: 2.2774\n"
     ]
    }
   ],
   "source": [
    "x = df.drop('fare_amount', axis=1)\n",
    "y = df['fare_amount']\n",
    "\n",
    "hist = model.fit(x, y, validation_split=0.2, epochs=100, batch_size=100)"
   ]
  },
  {
   "cell_type": "markdown",
   "metadata": {},
   "source": [
    "Plot the training accuracy and validation accuracy over time."
   ]
  },
  {
   "cell_type": "code",
   "execution_count": 16,
   "metadata": {},
   "outputs": [
    {
     "data": {
      "text/plain": [
       "[]"
      ]
     },
     "execution_count": 16,
     "metadata": {},
     "output_type": "execute_result"
    },
    {
     "data": {
      "image/png": "[encoded data removed]",
      "text/plain": [
       "<Figure size 432x288 with 1 Axes>"
      ]
     },
     "metadata": {},
     "output_type": "display_data"
    }
   ],
   "source": [
    "err = hist.history['mae']\n",
    "val_err = hist.history['val_mae']\n",
    "epochs = range(1, len(err) + 1)\n",
    "\n",
    "plt.plot(epochs, err, '-', label='Training MAE')\n",
    "plt.plot(epochs, val_err, ':', label='Validation MAE')\n",
    "plt.title('Training and Validation Accuracy')\n",
    "plt.xlabel('Epoch')\n",
    "plt.ylabel('Mean Absolute Error')\n",
    "plt.legend(loc='upper right')\n",
    "plt.plot()"
   ]
  },
  {
   "cell_type": "markdown",
   "metadata": {},
   "source": [
    "Get the coefficient of determination (R2) to determine how accurate the model is."
   ]
  },
  {
   "cell_type": "code",
   "execution_count": 17,
   "metadata": {},
   "outputs": [
    {
     "data": {
      "text/plain": [
       "0.7493304288433924"
      ]
     },
     "execution_count": 17,
     "metadata": {},
     "output_type": "execute_result"
    }
   ],
   "source": [
    "from sklearn.metrics import r2_score\n",
    "\n",
    "r2_score(y, model.predict(x))"
   ]
  },
  {
   "cell_type": "markdown",
   "metadata": {},
   "source": [
    "## Use the model to predict fare amounts\n",
    "\n",
    "Finish up by using the trained model to make a pair of predictions. First, estimate what it will cost to hire a taxi for a 2-mile trip at 5:00 p.m. on Friday afternoon."
   ]
  },
  {
   "cell_type": "code",
   "execution_count": 18,
   "metadata": {},
   "outputs": [
    {
     "data": {
      "text/plain": [
       "array([[10.974191]], dtype=float32)"
      ]
     },
     "execution_count": 18,
     "metadata": {},
     "output_type": "execute_result"
    }
   ],
   "source": [
    "import numpy as np\n",
    "\n",
    "model.predict(np.array([[4, 17, 2.0]]))"
   ]
  },
  {
   "cell_type": "markdown",
   "metadata": {},
   "source": [
    "Now predict the fare amount for a 2-mile trip taken at 5:00 p.m. one day later (on Saturday)."
   ]
  },
  {
   "cell_type": "code",
   "execution_count": 19,
   "metadata": {},
   "outputs": [
    {
     "data": {
      "text/plain": [
       "array([[10.798207]], dtype=float32)"
      ]
     },
     "execution_count": 19,
     "metadata": {},
     "output_type": "execute_result"
    }
   ],
   "source": [
    "model.predict(np.array([[5, 17, 2.0]]))"
   ]
  },
  {
   "cell_type": "markdown",
   "metadata": {},
   "source": [
    "Does the model predict a higher or lower fare amount for the same trip on Saturday afternoon? Does this make sense given that the data comes from a New York City cab company?"
   ]
  }
 ],
 "metadata": {
  "kernelspec": {
   "display_name": "Python 3",
   "language": "python",
   "name": "python3"
  },
  "language_info": {
   "codemirror_mode": {
    "name": "ipython",
    "version": 3
   },
   "file_extension": ".py",
   "mimetype": "text/x-python",
   "name": "python",
   "nbconvert_exporter": "python",
   "pygments_lexer": "ipython3",
   "version": "3.8.5"
  }
 },
 "nbformat": 4,
 "nbformat_minor": 2
}
