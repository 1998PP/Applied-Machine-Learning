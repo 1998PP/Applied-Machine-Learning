{
 "cells": [
  {
   "cell_type": "code",
   "execution_count": 1,
   "metadata": {},
   "outputs": [
    {
     "data": {
      "text/html": [
       "<div>\n",
       "<style scoped>\n",
       "    .dataframe tbody tr th:only-of-type {\n",
       "        vertical-align: middle;\n",
       "    }\n",
       "\n",
       "    .dataframe tbody tr th {\n",
       "        vertical-align: top;\n",
       "    }\n",
       "\n",
       "    .dataframe thead th {\n",
       "        text-align: right;\n",
       "    }\n",
       "</style>\n",
       "<table border=\"1\" class=\"dataframe\">\n",
       "  <thead>\n",
       "    <tr style=\"text-align: right;\">\n",
       "      <th></th>\n",
       "      <th>en</th>\n",
       "      <th>fr</th>\n",
       "    </tr>\n",
       "  </thead>\n",
       "  <tbody>\n",
       "    <tr>\n",
       "      <th>0</th>\n",
       "      <td>You're very clever.</td>\n",
       "      <td>Vous êtes fort ingénieuse.</td>\n",
       "    </tr>\n",
       "    <tr>\n",
       "      <th>1</th>\n",
       "      <td>Are there kids?</td>\n",
       "      <td>Y a-t-il des enfants ?</td>\n",
       "    </tr>\n",
       "    <tr>\n",
       "      <th>2</th>\n",
       "      <td>Come in.</td>\n",
       "      <td>Entrez !</td>\n",
       "    </tr>\n",
       "    <tr>\n",
       "      <th>3</th>\n",
       "      <td>Where's Boston?</td>\n",
       "      <td>Où est Boston ?</td>\n",
       "    </tr>\n",
       "    <tr>\n",
       "      <th>4</th>\n",
       "      <td>You see what I mean?</td>\n",
       "      <td>Vous voyez ce que je veux dire ?</td>\n",
       "    </tr>\n",
       "  </tbody>\n",
       "</table>\n",
       "</div>"
      ],
      "text/plain": [
       "                     en                                fr\n",
       "0   You're very clever.        Vous êtes fort ingénieuse.\n",
       "1       Are there kids?            Y a-t-il des enfants ?\n",
       "2              Come in.                          Entrez !\n",
       "3       Where's Boston?                   Où est Boston ?\n",
       "4  You see what I mean?  Vous voyez ce que je veux dire ?"
      ]
     },
     "execution_count": 1,
     "metadata": {},
     "output_type": "execute_result"
    }
   ],
   "source": [
    "import pandas as pd\n",
    "\n",
    "df = pd.read_csv('Data/en-fr.txt', names=['en', 'fr', 'attr'], usecols=['en', 'fr'], sep='\\t')\n",
    "df = df.sample(frac=1, random_state=42)\n",
    "df = df.reset_index(drop=True)\n",
    "df.head()"
   ]
  },
  {
   "cell_type": "code",
   "execution_count": 2,
   "metadata": {},
   "outputs": [
    {
     "data": {
      "text/html": [
       "<div>\n",
       "<style scoped>\n",
       "    .dataframe tbody tr th:only-of-type {\n",
       "        vertical-align: middle;\n",
       "    }\n",
       "\n",
       "    .dataframe tbody tr th {\n",
       "        vertical-align: top;\n",
       "    }\n",
       "\n",
       "    .dataframe thead th {\n",
       "        text-align: right;\n",
       "    }\n",
       "</style>\n",
       "<table border=\"1\" class=\"dataframe\">\n",
       "  <thead>\n",
       "    <tr style=\"text-align: right;\">\n",
       "      <th></th>\n",
       "      <th>en</th>\n",
       "      <th>fr</th>\n",
       "    </tr>\n",
       "  </thead>\n",
       "  <tbody>\n",
       "    <tr>\n",
       "      <th>0</th>\n",
       "      <td>youre very clever</td>\n",
       "      <td>[start] vous etes fort ingenieuse [end]</td>\n",
       "    </tr>\n",
       "    <tr>\n",
       "      <th>1</th>\n",
       "      <td>are there kids</td>\n",
       "      <td>[start] y atil des enfants  [end]</td>\n",
       "    </tr>\n",
       "    <tr>\n",
       "      <th>2</th>\n",
       "      <td>come in</td>\n",
       "      <td>[start] entrez [end]</td>\n",
       "    </tr>\n",
       "    <tr>\n",
       "      <th>3</th>\n",
       "      <td>wheres boston</td>\n",
       "      <td>[start] ou est boston [end]</td>\n",
       "    </tr>\n",
       "    <tr>\n",
       "      <th>4</th>\n",
       "      <td>you see what i mean</td>\n",
       "      <td>[start] vous voyez ce que je veux dire  [end]</td>\n",
       "    </tr>\n",
       "  </tbody>\n",
       "</table>\n",
       "</div>"
      ],
      "text/plain": [
       "                    en                                             fr\n",
       "0    youre very clever        [start] vous etes fort ingenieuse [end]\n",
       "1       are there kids              [start] y atil des enfants  [end]\n",
       "2              come in                           [start] entrez [end]\n",
       "3        wheres boston                    [start] ou est boston [end]\n",
       "4  you see what i mean  [start] vous voyez ce que je veux dire  [end]"
      ]
     },
     "execution_count": 2,
     "metadata": {},
     "output_type": "execute_result"
    }
   ],
   "source": [
    "import re\n",
    "from unicodedata import normalize\n",
    "\n",
    "def clean_text(text):\n",
    "    text = normalize('NFD', text.lower())\n",
    "    text = re.sub('[^A-Za-z ]+', '', text)\n",
    "    return text\n",
    "\n",
    "def clean_and_prepare_text(text):\n",
    "    text = '[start] ' + clean_text(text) + ' [end]'\n",
    "    return text\n",
    "\n",
    "df['en'] = df['en'].apply(lambda row: clean_text(row))\n",
    "df['fr'] = df['fr'].apply(lambda row: clean_and_prepare_text(row))\n",
    "df.head()"
   ]
  },
  {
   "cell_type": "code",
   "execution_count": 3,
   "metadata": {},
   "outputs": [
    {
     "name": "stdout",
     "output_type": "stream",
     "text": [
      "Max phrase length (English): 7\n",
      "Max phrase length (French): 16\n",
      "Sequence length: 17\n"
     ]
    }
   ],
   "source": [
    "en = df['en']\n",
    "fr = df['fr']\n",
    "\n",
    "en_max_len = max(len(line.split()) for line in en)\n",
    "fr_max_len = max(len(line.split()) for line in fr)\n",
    "sequence_len = max(en_max_len, fr_max_len) + 1\n",
    "\n",
    "print(f'Max phrase length (English): {en_max_len}')\n",
    "print(f'Max phrase length (French): {fr_max_len}')\n",
    "print(f'Sequence length: {sequence_len}')"
   ]
  },
  {
   "cell_type": "code",
   "execution_count": 4,
   "metadata": {},
   "outputs": [],
   "source": [
    "from tensorflow.keras.preprocessing.text import Tokenizer\n",
    "from tensorflow.keras.preprocessing.sequence import pad_sequences\n",
    "\n",
    "en_tokenizer = Tokenizer()\n",
    "en_tokenizer.fit_on_texts(en)\n",
    "en_sequences = en_tokenizer.texts_to_sequences(en)\n",
    "en_x = pad_sequences(en_sequences, maxlen=sequence_len, padding='post')\n",
    "\n",
    "fr_tokenizer = Tokenizer()\n",
    "fr_tokenizer.fit_on_texts(fr)\n",
    "fr_sequences = fr_tokenizer.texts_to_sequences(fr)\n",
    "fr_y = pad_sequences(fr_sequences, maxlen=sequence_len + 1, padding='post')"
   ]
  },
  {
   "cell_type": "code",
   "execution_count": 5,
   "metadata": {},
   "outputs": [
    {
     "name": "stdout",
     "output_type": "stream",
     "text": [
      "Vocabulary size (English): 6033\n",
      "Vocabulary size (French): 12197\n"
     ]
    }
   ],
   "source": [
    "en_vocab_size = len(en_tokenizer.word_index) + 1\n",
    "fr_vocab_size = len(fr_tokenizer.word_index) + 1\n",
    "\n",
    "print(f'Vocabulary size (English): {en_vocab_size}')\n",
    "print(f'Vocabulary size (French): {fr_vocab_size}')"
   ]
  },
  {
   "cell_type": "code",
   "execution_count": 6,
   "metadata": {},
   "outputs": [],
   "source": [
    "# TEST\n",
    "import tensorflow as tf\n",
    "\n",
    "def format_dataset(en, fr):\n",
    "    return ({ 'encoder_inputs': en, 'decoder_inputs': fr[:, :-1] }, fr[:, 1:])\n",
    "\n",
    "#en_texts, fr_texts = zip(en_x, fr_y)\n",
    "#en_texts = list(en_texts)\n",
    "#fr_texts = list(fr_texts)\n",
    "#dataset = tf.data.Dataset.from_tensor_slices((en_x, fr_y))\n",
    "#dataset = dataset.batch(50)\n",
    "#dataset = dataset.map(format_dataset)\n",
    "#dataset = dataset.prefetch(25).cache()"
   ]
  },
  {
   "cell_type": "code",
   "execution_count": 7,
   "metadata": {},
   "outputs": [],
   "source": [
    "inputs = { 'encoder_inputs': en_x, 'decoder_inputs': fr_y[:, :-1] }\n",
    "outputs = fr_y[:, 1:]"
   ]
  },
  {
   "cell_type": "markdown",
   "metadata": {},
   "source": [
    "## Build and train a model"
   ]
  },
  {
   "cell_type": "code",
   "execution_count": 8,
   "metadata": {},
   "outputs": [
    {
     "name": "stdout",
     "output_type": "stream",
     "text": [
      "Model: \"transformer\"\n",
      "________________________________________________________________________________________________________________________\n",
      " Layer (type)                          Output Shape               Param #       Connected to                            \n",
      "========================================================================================================================\n",
      " encoder_inputs (InputLayer)           [(None, None)]             0             []                                      \n",
      "                                                                                                                        \n",
      " positional_embedding (PositionalEmbed  (None, None, 256)         1548800       ['encoder_inputs[0][0]']                \n",
      " ding)                                                                                                                  \n",
      "                                                                                                                        \n",
      " decoder_inputs (InputLayer)           [(None, None)]             0             []                                      \n",
      "                                                                                                                        \n",
      " transformer_encoder (TransformerEncod  (None, None, 256)         3155456       ['positional_embedding[0][0]']          \n",
      " er)                                                                                                                    \n",
      "                                                                                                                        \n",
      " model_1 (Functional)                  (None, None, 12197)        11520933      ['decoder_inputs[0][0]',                \n",
      "                                                                                 'transformer_encoder[0][0]']           \n",
      "                                                                                                                        \n",
      "========================================================================================================================\n",
      "Total params: 16,225,189\n",
      "Trainable params: 16,225,189\n",
      "Non-trainable params: 0\n",
      "________________________________________________________________________________________________________________________\n"
     ]
    }
   ],
   "source": [
    "from transformer import *\n",
    "\n",
    "embed_dim = 256\n",
    "latent_dim = 2048\n",
    "num_heads = 8\n",
    "\n",
    "encoder_inputs = keras.Input(shape=(None,), dtype='int64', name='encoder_inputs')\n",
    "x = PositionalEmbedding(sequence_len, en_vocab_size, embed_dim)(encoder_inputs)\n",
    "encoder_outputs = TransformerEncoder(embed_dim, latent_dim, num_heads)(x)\n",
    "encoder = keras.Model(encoder_inputs, encoder_outputs)\n",
    "\n",
    "decoder_inputs = keras.Input(shape=(None,), dtype='int64', name='decoder_inputs')\n",
    "encoded_seq_inputs = keras.Input(shape=(None, embed_dim), name='decoder_state_inputs')\n",
    "x = PositionalEmbedding(sequence_len, fr_vocab_size, embed_dim)(decoder_inputs)\n",
    "x = TransformerDecoder(embed_dim, latent_dim, num_heads)(x, encoded_seq_inputs)\n",
    "#x = layers.Dropout(0.5)(x)\n",
    "decoder_outputs = layers.Dense(fr_vocab_size, activation='softmax')(x)\n",
    "decoder = keras.Model([decoder_inputs, encoded_seq_inputs], decoder_outputs)\n",
    "decoder_outputs = decoder([decoder_inputs, encoder_outputs])\n",
    "\n",
    "transformer = keras.Model(\n",
    "    [encoder_inputs, decoder_inputs], decoder_outputs, name='transformer'\n",
    ")\n",
    "\n",
    "transformer.compile(optimizer='adam', loss='sparse_categorical_crossentropy', metrics=['accuracy'])\n",
    "transformer.summary(line_length=120)"
   ]
  },
  {
   "cell_type": "code",
   "execution_count": 9,
   "metadata": {},
   "outputs": [],
   "source": [
    "#from keras.utils.vis_utils import plot_model\n",
    "\n",
    "#plot_model(transformer, show_shapes=True, show_layer_names=True)"
   ]
  },
  {
   "cell_type": "code",
   "execution_count": 10,
   "metadata": {},
   "outputs": [
    {
     "name": "stdout",
     "output_type": "stream",
     "text": [
      "Epoch 1/25\n",
      "1250/1250 [==============================] - 243s 193ms/step - loss: 0.9844 - accuracy: 0.5717 - val_loss: 0.7214 - val_accuracy: 0.6492\n",
      "Epoch 2/25\n",
      "1250/1250 [==============================] - 240s 192ms/step - loss: 0.5364 - accuracy: 0.7019 - val_loss: 0.5722 - val_accuracy: 0.6991\n",
      "Epoch 3/25\n",
      "1250/1250 [==============================] - 242s 193ms/step - loss: 0.3737 - accuracy: 0.7551 - val_loss: 0.5424 - val_accuracy: 0.7205\n",
      "Epoch 4/25\n",
      "1250/1250 [==============================] - 238s 190ms/step - loss: 0.2954 - accuracy: 0.7859 - val_loss: 0.5453 - val_accuracy: 0.7280\n",
      "Epoch 5/25\n",
      "1250/1250 [==============================] - 243s 194ms/step - loss: 0.2502 - accuracy: 0.8109 - val_loss: 0.5405 - val_accuracy: 0.7356\n",
      "Epoch 6/25\n",
      "1250/1250 [==============================] - 239s 191ms/step - loss: 0.2216 - accuracy: 0.8272 - val_loss: 0.5357 - val_accuracy: 0.7409\n",
      "Epoch 7/25\n",
      "1250/1250 [==============================] - 239s 191ms/step - loss: 0.2029 - accuracy: 0.8375 - val_loss: 0.5381 - val_accuracy: 0.7419\n",
      "Epoch 8/25\n",
      "1250/1250 [==============================] - 243s 194ms/step - loss: 0.1860 - accuracy: 0.8480 - val_loss: 0.5375 - val_accuracy: 0.7422\n",
      "Epoch 9/25\n",
      "1250/1250 [==============================] - 236s 189ms/step - loss: 0.1739 - accuracy: 0.8552 - val_loss: 0.5457 - val_accuracy: 0.7434\n",
      "Epoch 10/25\n",
      "1250/1250 [==============================] - 242s 193ms/step - loss: 0.1651 - accuracy: 0.8612 - val_loss: 0.5337 - val_accuracy: 0.7467\n",
      "Epoch 11/25\n",
      "1250/1250 [==============================] - 246s 197ms/step - loss: 0.1558 - accuracy: 0.8666 - val_loss: 0.5511 - val_accuracy: 0.7438\n",
      "Epoch 12/25\n",
      "1250/1250 [==============================] - 238s 191ms/step - loss: 0.1479 - accuracy: 0.8711 - val_loss: 0.5512 - val_accuracy: 0.7419\n",
      "Epoch 13/25\n",
      "1250/1250 [==============================] - 238s 190ms/step - loss: 0.1419 - accuracy: 0.8754 - val_loss: 0.5548 - val_accuracy: 0.7445\n",
      "Epoch 14/25\n",
      "1250/1250 [==============================] - 242s 194ms/step - loss: 0.1366 - accuracy: 0.8782 - val_loss: 0.5597 - val_accuracy: 0.7433\n",
      "Epoch 15/25\n",
      "1250/1250 [==============================] - 249s 200ms/step - loss: 0.1312 - accuracy: 0.8822 - val_loss: 0.5556 - val_accuracy: 0.7457\n",
      "Epoch 16/25\n",
      "1250/1250 [==============================] - 243s 195ms/step - loss: 0.1261 - accuracy: 0.8856 - val_loss: 0.5559 - val_accuracy: 0.7431\n",
      "Epoch 17/25\n",
      "1250/1250 [==============================] - 236s 189ms/step - loss: 0.1235 - accuracy: 0.8871 - val_loss: 0.5666 - val_accuracy: 0.7403\n",
      "Epoch 18/25\n",
      "1250/1250 [==============================] - 247s 197ms/step - loss: 0.1195 - accuracy: 0.8890 - val_loss: 0.5614 - val_accuracy: 0.7440\n",
      "Epoch 19/25\n",
      "1250/1250 [==============================] - 240s 192ms/step - loss: 0.1165 - accuracy: 0.8911 - val_loss: 0.5669 - val_accuracy: 0.7453\n",
      "Epoch 20/25\n",
      "1250/1250 [==============================] - 239s 191ms/step - loss: 0.1121 - accuracy: 0.8940 - val_loss: 0.5706 - val_accuracy: 0.7448\n",
      "Epoch 21/25\n",
      "1250/1250 [==============================] - 234s 187ms/step - loss: 0.1103 - accuracy: 0.8953 - val_loss: 0.5763 - val_accuracy: 0.7427\n",
      "Epoch 22/25\n",
      "1250/1250 [==============================] - 236s 189ms/step - loss: 0.1083 - accuracy: 0.8960 - val_loss: 0.5770 - val_accuracy: 0.7442\n",
      "Epoch 23/25\n",
      "1250/1250 [==============================] - 242s 194ms/step - loss: 0.1060 - accuracy: 0.8975 - val_loss: 0.5783 - val_accuracy: 0.7434\n",
      "Epoch 24/25\n",
      "1250/1250 [==============================] - 243s 194ms/step - loss: 0.1036 - accuracy: 0.8996 - val_loss: 0.5756 - val_accuracy: 0.7426\n",
      "Epoch 25/25\n",
      "1250/1250 [==============================] - 244s 195ms/step - loss: 0.1013 - accuracy: 0.9005 - val_loss: 0.5886 - val_accuracy: 0.7413\n"
     ]
    }
   ],
   "source": [
    "hist = transformer.fit(inputs, outputs, epochs=25, validation_split=0.2)"
   ]
  },
  {
   "cell_type": "code",
   "execution_count": 12,
   "metadata": {},
   "outputs": [
    {
     "data": {
      "text/plain": [
       "[]"
      ]
     },
     "execution_count": 12,
     "metadata": {},
     "output_type": "execute_result"
    },
    {
     "data": {
      "image/png": "[encoded data removed]",
      "text/plain": [
       "<Figure size 432x288 with 1 Axes>"
      ]
     },
     "metadata": {},
     "output_type": "display_data"
    }
   ],
   "source": [
    "import seaborn as sns\n",
    "import matplotlib.pyplot as plt\n",
    "%matplotlib inline\n",
    "sns.set()\n",
    "\n",
    "acc = hist.history['accuracy']\n",
    "val = hist.history['val_accuracy']\n",
    "epochs = range(1, len(acc) + 1)\n",
    "\n",
    "plt.plot(epochs, acc, '-', label='Training accuracy')\n",
    "plt.plot(epochs, val, ':', label='Validation accuracy')\n",
    "plt.title('Training and Validation Accuracy')\n",
    "plt.xlabel('Epoch')\n",
    "plt.ylabel('Accuracy')\n",
    "plt.legend(loc='lower right')\n",
    "plt.plot()"
   ]
  },
  {
   "cell_type": "code",
   "execution_count": 41,
   "metadata": {},
   "outputs": [
    {
     "name": "stdout",
     "output_type": "stream",
     "text": [
      "Input sentence: its fall now\n",
      "Input sequence: [[1], [], [], [], [], [4], [], [], [], [], [], []]\n",
      "Input sequence length: 12\n",
      "sequence_len: 17\n",
      "Padded input sequence length: 12\n",
      "7\n"
     ]
    },
    {
     "ename": "InvalidArgumentError",
     "evalue": "Exception encountered when calling layer \"multi_head_attention_2\" (type MultiHeadAttention).\n\nExpected dimension 12 at axis 0 of the input shaped [7,16,8,256] but got dimension 7 [Op:Einsum]\n\nCall arguments received:\n  • query=tf.Tensor(shape=(7, 16, 256), dtype=float32)\n  • value=tf.Tensor(shape=(12, 17, 256), dtype=float32)\n  • key=tf.Tensor(shape=(12, 17, 256), dtype=float32)\n  • attention_mask=tf.Tensor(shape=(7, 16, 16), dtype=int32)\n  • return_attention_scores=False\n  • training=False",
     "output_type": "error",
     "traceback": [
      "\u001b[1;31m---------------------------------------------------------------------------\u001b[0m",
      "\u001b[1;31mInvalidArgumentError\u001b[0m                      Traceback (most recent call last)",
      "\u001b[1;32m<ipython-input-41-91779fe36405>\u001b[0m in \u001b[0;36m<module>\u001b[1;34m\u001b[0m\n\u001b[0;32m     34\u001b[0m \u001b[1;32mfor\u001b[0m \u001b[0mi\u001b[0m \u001b[1;32min\u001b[0m \u001b[0mrange\u001b[0m\u001b[1;33m(\u001b[0m\u001b[0mlen\u001b[0m\u001b[1;33m(\u001b[0m\u001b[0mtexts\u001b[0m\u001b[1;33m)\u001b[0m\u001b[1;33m)\u001b[0m\u001b[1;33m:\u001b[0m\u001b[1;33m\u001b[0m\u001b[1;33m\u001b[0m\u001b[0m\n\u001b[0;32m     35\u001b[0m     \u001b[0minput_sentence\u001b[0m \u001b[1;33m=\u001b[0m \u001b[0mtexts\u001b[0m\u001b[1;33m[\u001b[0m\u001b[0mi\u001b[0m\u001b[1;33m]\u001b[0m\u001b[1;33m\u001b[0m\u001b[1;33m\u001b[0m\u001b[0m\n\u001b[1;32m---> 36\u001b[1;33m     \u001b[0mtranslated\u001b[0m \u001b[1;33m=\u001b[0m \u001b[0mdecode_sequence\u001b[0m\u001b[1;33m(\u001b[0m\u001b[0minput_sentence\u001b[0m\u001b[1;33m,\u001b[0m \u001b[0men_tokenizer\u001b[0m\u001b[1;33m,\u001b[0m \u001b[0mfr_tokenizer\u001b[0m\u001b[1;33m,\u001b[0m \u001b[0mfr_index_lookup\u001b[0m\u001b[1;33m)\u001b[0m\u001b[1;33m\u001b[0m\u001b[1;33m\u001b[0m\u001b[0m\n\u001b[0m\u001b[0;32m     37\u001b[0m     \u001b[0mprint\u001b[0m\u001b[1;33m(\u001b[0m\u001b[0mtranslated\u001b[0m\u001b[1;33m)\u001b[0m\u001b[1;33m\u001b[0m\u001b[1;33m\u001b[0m\u001b[0m\n",
      "\u001b[1;32m<ipython-input-41-91779fe36405>\u001b[0m in \u001b[0;36mdecode_sequence\u001b[1;34m(input_sentence, en_tokenizer, fr_tokenizer, fr_index_lookup)\u001b[0m\n\u001b[0;32m     18\u001b[0m         \u001b[0mprint\u001b[0m\u001b[1;33m(\u001b[0m\u001b[0mlen\u001b[0m\u001b[1;33m(\u001b[0m\u001b[0mpadded_target_sequence\u001b[0m\u001b[1;33m)\u001b[0m\u001b[1;33m)\u001b[0m\u001b[1;33m\u001b[0m\u001b[1;33m\u001b[0m\u001b[0m\n\u001b[0;32m     19\u001b[0m \u001b[1;33m\u001b[0m\u001b[0m\n\u001b[1;32m---> 20\u001b[1;33m         \u001b[0mpredictions\u001b[0m \u001b[1;33m=\u001b[0m \u001b[0mtransformer\u001b[0m\u001b[1;33m(\u001b[0m\u001b[1;33m[\u001b[0m\u001b[0mpadded_input_sequence\u001b[0m\u001b[1;33m,\u001b[0m \u001b[0mpadded_target_sequence\u001b[0m\u001b[1;33m]\u001b[0m\u001b[1;33m)\u001b[0m\u001b[1;33m\u001b[0m\u001b[1;33m\u001b[0m\u001b[0m\n\u001b[0m\u001b[0;32m     21\u001b[0m \u001b[1;33m\u001b[0m\u001b[0m\n\u001b[0;32m     22\u001b[0m         \u001b[0msampled_token_index\u001b[0m \u001b[1;33m=\u001b[0m \u001b[0mnp\u001b[0m\u001b[1;33m.\u001b[0m\u001b[0margmax\u001b[0m\u001b[1;33m(\u001b[0m\u001b[0mpredictions\u001b[0m\u001b[1;33m[\u001b[0m\u001b[1;36m0\u001b[0m\u001b[1;33m,\u001b[0m \u001b[0mi\u001b[0m\u001b[1;33m,\u001b[0m \u001b[1;33m:\u001b[0m\u001b[1;33m]\u001b[0m\u001b[1;33m)\u001b[0m\u001b[1;33m\u001b[0m\u001b[1;33m\u001b[0m\u001b[0m\n",
      "\u001b[1;32mc:\\users\\jeffp\\appdata\\local\\programs\\python\\python38\\lib\\site-packages\\keras\\utils\\traceback_utils.py\u001b[0m in \u001b[0;36merror_handler\u001b[1;34m(*args, **kwargs)\u001b[0m\n\u001b[0;32m     65\u001b[0m     \u001b[1;32mexcept\u001b[0m \u001b[0mException\u001b[0m \u001b[1;32mas\u001b[0m \u001b[0me\u001b[0m\u001b[1;33m:\u001b[0m  \u001b[1;31m# pylint: disable=broad-except\u001b[0m\u001b[1;33m\u001b[0m\u001b[1;33m\u001b[0m\u001b[0m\n\u001b[0;32m     66\u001b[0m       \u001b[0mfiltered_tb\u001b[0m \u001b[1;33m=\u001b[0m \u001b[0m_process_traceback_frames\u001b[0m\u001b[1;33m(\u001b[0m\u001b[0me\u001b[0m\u001b[1;33m.\u001b[0m\u001b[0m__traceback__\u001b[0m\u001b[1;33m)\u001b[0m\u001b[1;33m\u001b[0m\u001b[1;33m\u001b[0m\u001b[0m\n\u001b[1;32m---> 67\u001b[1;33m       \u001b[1;32mraise\u001b[0m \u001b[0me\u001b[0m\u001b[1;33m.\u001b[0m\u001b[0mwith_traceback\u001b[0m\u001b[1;33m(\u001b[0m\u001b[0mfiltered_tb\u001b[0m\u001b[1;33m)\u001b[0m \u001b[1;32mfrom\u001b[0m \u001b[1;32mNone\u001b[0m\u001b[1;33m\u001b[0m\u001b[1;33m\u001b[0m\u001b[0m\n\u001b[0m\u001b[0;32m     68\u001b[0m     \u001b[1;32mfinally\u001b[0m\u001b[1;33m:\u001b[0m\u001b[1;33m\u001b[0m\u001b[1;33m\u001b[0m\u001b[0m\n\u001b[0;32m     69\u001b[0m       \u001b[1;32mdel\u001b[0m \u001b[0mfiltered_tb\u001b[0m\u001b[1;33m\u001b[0m\u001b[1;33m\u001b[0m\u001b[0m\n",
      "\u001b[1;32mC:\\GitHub\\Practical-Machine-Learning\\Experimental\\transformer.py\u001b[0m in \u001b[0;36mcall\u001b[1;34m(self, inputs, encoder_outputs, mask)\u001b[0m\n\u001b[0;32m     87\u001b[0m         \u001b[0mout_1\u001b[0m \u001b[1;33m=\u001b[0m \u001b[0mself\u001b[0m\u001b[1;33m.\u001b[0m\u001b[0mlayernorm_1\u001b[0m\u001b[1;33m(\u001b[0m\u001b[0minputs\u001b[0m \u001b[1;33m+\u001b[0m \u001b[0mattention_output_1\u001b[0m\u001b[1;33m)\u001b[0m\u001b[1;33m\u001b[0m\u001b[1;33m\u001b[0m\u001b[0m\n\u001b[0;32m     88\u001b[0m \u001b[1;33m\u001b[0m\u001b[0m\n\u001b[1;32m---> 89\u001b[1;33m         attention_output_2 = self.attention_2(\n\u001b[0m\u001b[0;32m     90\u001b[0m             \u001b[0mquery\u001b[0m\u001b[1;33m=\u001b[0m\u001b[0mout_1\u001b[0m\u001b[1;33m,\u001b[0m\u001b[1;33m\u001b[0m\u001b[1;33m\u001b[0m\u001b[0m\n\u001b[0;32m     91\u001b[0m             \u001b[0mvalue\u001b[0m\u001b[1;33m=\u001b[0m\u001b[0mencoder_outputs\u001b[0m\u001b[1;33m,\u001b[0m\u001b[1;33m\u001b[0m\u001b[1;33m\u001b[0m\u001b[0m\n",
      "\u001b[1;31mInvalidArgumentError\u001b[0m: Exception encountered when calling layer \"multi_head_attention_2\" (type MultiHeadAttention).\n\nExpected dimension 12 at axis 0 of the input shaped [7,16,8,256] but got dimension 7 [Op:Einsum]\n\nCall arguments received:\n  • query=tf.Tensor(shape=(7, 16, 256), dtype=float32)\n  • value=tf.Tensor(shape=(12, 17, 256), dtype=float32)\n  • key=tf.Tensor(shape=(12, 17, 256), dtype=float32)\n  • attention_mask=tf.Tensor(shape=(7, 16, 16), dtype=int32)\n  • return_attention_scores=False\n  • training=False"
     ]
    }
   ],
   "source": [
    "fr_vocab = fr_tokenizer.word_index\n",
    "fr_index_lookup = dict(zip(range(len(fr_vocab)), fr_vocab))\n",
    "\n",
    "def decode_sequence(input_sentence, en_tokenizer, fr_tokenizer, fr_index_lookup):\n",
    "    print(f'Input sentence: {input_sentence}')\n",
    "    #print(f'Input sentence length: {len(input_sentence)}')\n",
    "    input_sequence = en_tokenizer.texts_to_sequences(input_sentence)\n",
    "    print(f'Input sequence: {input_sequence}')\n",
    "    print(f'Input sequence length: {len(input_sequence)}')\n",
    "    padded_input_sequence = pad_sequences(input_sequence, maxlen=sequence_len, padding='post')\n",
    "    print(f'sequence_len: {sequence_len}')\n",
    "    print(f'Padded input sequence length: {len(padded_input_sequence)}')\n",
    "    decoded_sentence = '[start]'\n",
    "\n",
    "    for i in range(sequence_len):\n",
    "        target_sequence = fr_tokenizer.texts_to_sequences(decoded_sentence)\n",
    "        padded_target_sequence = pad_sequences(target_sequence, maxlen=sequence_len, padding='post')[:, :-1]\n",
    "        print(len(padded_target_sequence))\n",
    "        \n",
    "        predictions = transformer([padded_input_sequence, padded_target_sequence])\n",
    "\n",
    "        sampled_token_index = np.argmax(predictions[0, i, :])\n",
    "        sampled_token = fr_index_lookup[sampled_token_index]\n",
    "        decoded_sentence += ' ' + sampled_token\n",
    "\n",
    "        if sampled_token == '[end]':\n",
    "            break\n",
    "    \n",
    "    return decoded_sentence\n",
    "\n",
    "#test_eng_texts = [pair[0] for pair in test_pairs]\n",
    "texts = en[40000:40010].values\n",
    "\n",
    "for i in range(len(texts)):\n",
    "    input_sentence = texts[i]\n",
    "    translated = decode_sequence(input_sentence, en_tokenizer, fr_tokenizer, fr_index_lookup)\n",
    "    print(translated)"
   ]
  },
  {
   "cell_type": "code",
   "execution_count": 14,
   "metadata": {},
   "outputs": [
    {
     "ename": "ValueError",
     "evalue": "in user code:\n\n    File \"c:\\users\\jeffp\\appdata\\local\\programs\\python\\python38\\lib\\site-packages\\keras\\engine\\training.py\", line 1801, in predict_function  *\n        return step_function(self, iterator)\n    File \"c:\\users\\jeffp\\appdata\\local\\programs\\python\\python38\\lib\\site-packages\\keras\\engine\\training.py\", line 1790, in step_function  **\n        outputs = model.distribute_strategy.run(run_step, args=(data,))\n    File \"c:\\users\\jeffp\\appdata\\local\\programs\\python\\python38\\lib\\site-packages\\keras\\engine\\training.py\", line 1783, in run_step  **\n        outputs = model.predict_step(data)\n    File \"c:\\users\\jeffp\\appdata\\local\\programs\\python\\python38\\lib\\site-packages\\keras\\engine\\training.py\", line 1751, in predict_step\n        return self(x, training=False)\n    File \"c:\\users\\jeffp\\appdata\\local\\programs\\python\\python38\\lib\\site-packages\\keras\\utils\\traceback_utils.py\", line 67, in error_handler\n        raise e.with_traceback(filtered_tb) from None\n    File \"c:\\users\\jeffp\\appdata\\local\\programs\\python\\python38\\lib\\site-packages\\keras\\engine\\input_spec.py\", line 200, in assert_input_compatibility\n        raise ValueError(f'Layer \"{layer_name}\" expects {len(input_spec)} input(s),'\n\n    ValueError: Layer \"transformer\" expects 2 input(s), but it received 1 input tensors. Inputs received: [<tf.Tensor 'IteratorGetNext:0' shape=(None, 17) dtype=int32>]\n",
     "output_type": "error",
     "traceback": [
      "\u001b[1;31m---------------------------------------------------------------------------\u001b[0m",
      "\u001b[1;31mValueError\u001b[0m                                Traceback (most recent call last)",
      "\u001b[1;32m<ipython-input-14-3b14f8f853a4>\u001b[0m in \u001b[0;36m<module>\u001b[1;34m\u001b[0m\n\u001b[0;32m      4\u001b[0m \u001b[0msequences\u001b[0m \u001b[1;33m=\u001b[0m \u001b[0men_tokenizer\u001b[0m\u001b[1;33m.\u001b[0m\u001b[0mtexts_to_sequences\u001b[0m\u001b[1;33m(\u001b[0m\u001b[0mtexts\u001b[0m\u001b[1;33m)\u001b[0m\u001b[1;33m\u001b[0m\u001b[1;33m\u001b[0m\u001b[0m\n\u001b[0;32m      5\u001b[0m \u001b[0mpadded_sequences\u001b[0m \u001b[1;33m=\u001b[0m \u001b[0mpad_sequences\u001b[0m\u001b[1;33m(\u001b[0m\u001b[0msequences\u001b[0m\u001b[1;33m,\u001b[0m \u001b[0mmaxlen\u001b[0m\u001b[1;33m=\u001b[0m\u001b[0msequence_len\u001b[0m\u001b[1;33m,\u001b[0m \u001b[0mpadding\u001b[0m\u001b[1;33m=\u001b[0m\u001b[1;34m'post'\u001b[0m\u001b[1;33m)\u001b[0m\u001b[1;33m\u001b[0m\u001b[1;33m\u001b[0m\u001b[0m\n\u001b[1;32m----> 6\u001b[1;33m \u001b[0mpredictions\u001b[0m \u001b[1;33m=\u001b[0m \u001b[0mtransformer\u001b[0m\u001b[1;33m.\u001b[0m\u001b[0mpredict\u001b[0m\u001b[1;33m(\u001b[0m\u001b[0mpadded_sequences\u001b[0m\u001b[1;33m)\u001b[0m\u001b[1;33m\u001b[0m\u001b[1;33m\u001b[0m\u001b[0m\n\u001b[0m\u001b[0;32m      7\u001b[0m \u001b[1;33m\u001b[0m\u001b[0m\n\u001b[0;32m      8\u001b[0m \u001b[1;32mfor\u001b[0m \u001b[0mi\u001b[0m \u001b[1;32min\u001b[0m \u001b[0mrange\u001b[0m\u001b[1;33m(\u001b[0m\u001b[0mlen\u001b[0m\u001b[1;33m(\u001b[0m\u001b[0mpredictions\u001b[0m\u001b[1;33m)\u001b[0m\u001b[1;33m)\u001b[0m\u001b[1;33m:\u001b[0m\u001b[1;33m\u001b[0m\u001b[1;33m\u001b[0m\u001b[0m\n",
      "\u001b[1;32mc:\\users\\jeffp\\appdata\\local\\programs\\python\\python38\\lib\\site-packages\\keras\\utils\\traceback_utils.py\u001b[0m in \u001b[0;36merror_handler\u001b[1;34m(*args, **kwargs)\u001b[0m\n\u001b[0;32m     65\u001b[0m     \u001b[1;32mexcept\u001b[0m \u001b[0mException\u001b[0m \u001b[1;32mas\u001b[0m \u001b[0me\u001b[0m\u001b[1;33m:\u001b[0m  \u001b[1;31m# pylint: disable=broad-except\u001b[0m\u001b[1;33m\u001b[0m\u001b[1;33m\u001b[0m\u001b[0m\n\u001b[0;32m     66\u001b[0m       \u001b[0mfiltered_tb\u001b[0m \u001b[1;33m=\u001b[0m \u001b[0m_process_traceback_frames\u001b[0m\u001b[1;33m(\u001b[0m\u001b[0me\u001b[0m\u001b[1;33m.\u001b[0m\u001b[0m__traceback__\u001b[0m\u001b[1;33m)\u001b[0m\u001b[1;33m\u001b[0m\u001b[1;33m\u001b[0m\u001b[0m\n\u001b[1;32m---> 67\u001b[1;33m       \u001b[1;32mraise\u001b[0m \u001b[0me\u001b[0m\u001b[1;33m.\u001b[0m\u001b[0mwith_traceback\u001b[0m\u001b[1;33m(\u001b[0m\u001b[0mfiltered_tb\u001b[0m\u001b[1;33m)\u001b[0m \u001b[1;32mfrom\u001b[0m \u001b[1;32mNone\u001b[0m\u001b[1;33m\u001b[0m\u001b[1;33m\u001b[0m\u001b[0m\n\u001b[0m\u001b[0;32m     68\u001b[0m     \u001b[1;32mfinally\u001b[0m\u001b[1;33m:\u001b[0m\u001b[1;33m\u001b[0m\u001b[1;33m\u001b[0m\u001b[0m\n\u001b[0;32m     69\u001b[0m       \u001b[1;32mdel\u001b[0m \u001b[0mfiltered_tb\u001b[0m\u001b[1;33m\u001b[0m\u001b[1;33m\u001b[0m\u001b[0m\n",
      "\u001b[1;32mc:\\users\\jeffp\\appdata\\local\\programs\\python\\python38\\lib\\site-packages\\tensorflow\\python\\framework\\func_graph.py\u001b[0m in \u001b[0;36mautograph_handler\u001b[1;34m(*args, **kwargs)\u001b[0m\n\u001b[0;32m   1145\u001b[0m           \u001b[1;32mexcept\u001b[0m \u001b[0mException\u001b[0m \u001b[1;32mas\u001b[0m \u001b[0me\u001b[0m\u001b[1;33m:\u001b[0m  \u001b[1;31m# pylint:disable=broad-except\u001b[0m\u001b[1;33m\u001b[0m\u001b[1;33m\u001b[0m\u001b[0m\n\u001b[0;32m   1146\u001b[0m             \u001b[1;32mif\u001b[0m \u001b[0mhasattr\u001b[0m\u001b[1;33m(\u001b[0m\u001b[0me\u001b[0m\u001b[1;33m,\u001b[0m \u001b[1;34m\"ag_error_metadata\"\u001b[0m\u001b[1;33m)\u001b[0m\u001b[1;33m:\u001b[0m\u001b[1;33m\u001b[0m\u001b[1;33m\u001b[0m\u001b[0m\n\u001b[1;32m-> 1147\u001b[1;33m               \u001b[1;32mraise\u001b[0m \u001b[0me\u001b[0m\u001b[1;33m.\u001b[0m\u001b[0mag_error_metadata\u001b[0m\u001b[1;33m.\u001b[0m\u001b[0mto_exception\u001b[0m\u001b[1;33m(\u001b[0m\u001b[0me\u001b[0m\u001b[1;33m)\u001b[0m\u001b[1;33m\u001b[0m\u001b[1;33m\u001b[0m\u001b[0m\n\u001b[0m\u001b[0;32m   1148\u001b[0m             \u001b[1;32melse\u001b[0m\u001b[1;33m:\u001b[0m\u001b[1;33m\u001b[0m\u001b[1;33m\u001b[0m\u001b[0m\n\u001b[0;32m   1149\u001b[0m               \u001b[1;32mraise\u001b[0m\u001b[1;33m\u001b[0m\u001b[1;33m\u001b[0m\u001b[0m\n",
      "\u001b[1;31mValueError\u001b[0m: in user code:\n\n    File \"c:\\users\\jeffp\\appdata\\local\\programs\\python\\python38\\lib\\site-packages\\keras\\engine\\training.py\", line 1801, in predict_function  *\n        return step_function(self, iterator)\n    File \"c:\\users\\jeffp\\appdata\\local\\programs\\python\\python38\\lib\\site-packages\\keras\\engine\\training.py\", line 1790, in step_function  **\n        outputs = model.distribute_strategy.run(run_step, args=(data,))\n    File \"c:\\users\\jeffp\\appdata\\local\\programs\\python\\python38\\lib\\site-packages\\keras\\engine\\training.py\", line 1783, in run_step  **\n        outputs = model.predict_step(data)\n    File \"c:\\users\\jeffp\\appdata\\local\\programs\\python\\python38\\lib\\site-packages\\keras\\engine\\training.py\", line 1751, in predict_step\n        return self(x, training=False)\n    File \"c:\\users\\jeffp\\appdata\\local\\programs\\python\\python38\\lib\\site-packages\\keras\\utils\\traceback_utils.py\", line 67, in error_handler\n        raise e.with_traceback(filtered_tb) from None\n    File \"c:\\users\\jeffp\\appdata\\local\\programs\\python\\python38\\lib\\site-packages\\keras\\engine\\input_spec.py\", line 200, in assert_input_compatibility\n        raise ValueError(f'Layer \"{layer_name}\" expects {len(input_spec)} input(s),'\n\n    ValueError: Layer \"transformer\" expects 2 input(s), but it received 1 input tensors. Inputs received: [<tf.Tensor 'IteratorGetNext:0' shape=(None, 17) dtype=int32>]\n"
     ]
    }
   ],
   "source": [
    "import numpy as np\n",
    "\n",
    "texts = en[40000:40010].values\n",
    "sequences = en_tokenizer.texts_to_sequences(texts)\n",
    "padded_sequences = pad_sequences(sequences, maxlen=sequence_len, padding='post')\n",
    "predictions = transformer.predict(padded_sequences)\n",
    "\n",
    "for i in range(len(predictions)):\n",
    "    indexes = [np.argmax(idx) for idx in predictions[i]]\n",
    "    translated_text = fr_tokenizer.sequences_to_texts([indexes])[0]\n",
    "    print(f'{texts[i]} => {translated_text}')"
   ]
  },
  {
   "cell_type": "code",
   "execution_count": null,
   "metadata": {},
   "outputs": [],
   "source": []
  }
 ],
 "metadata": {
  "kernelspec": {
   "display_name": "Python 3",
   "language": "python",
   "name": "python3"
  },
  "language_info": {
   "codemirror_mode": {
    "name": "ipython",
    "version": 3
   },
   "file_extension": ".py",
   "mimetype": "text/x-python",
   "name": "python",
   "nbconvert_exporter": "python",
   "pygments_lexer": "ipython3",
   "version": "3.8.5"
  }
 },
 "nbformat": 4,
 "nbformat_minor": 4
}
