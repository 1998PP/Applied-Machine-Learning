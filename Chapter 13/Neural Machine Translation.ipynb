{
 "cells": [
  {
   "cell_type": "markdown",
   "metadata": {},
   "source": [
    "# Neural Machine Translation (NMT)\n",
    "\n",
    "In the universe of natural language processing (NLP), text classification is a relatively simple task. At the opposite end of the difficulty spectrum lies neural machine translation (NMT), which uses deep learning to translate text from one language to another – for example, turning “Hello world” into “Salut le monde.” NMT has proven superior to the [rules-based machine translation](https://en.wikipedia.org/wiki/Rule-based_machine_translation) (RBMT) and [statistical machine translation](https://en.wikipedia.org/wiki/Statistical_machine_translation) (SMT) systems that predated the explosion of deep learning and today is the basis for virtually all state-of-the-art text-translation services. Let's use Keras and TensorFlow to build an NMT model that translates English to French."
   ]
  },
  {
   "cell_type": "markdown",
   "metadata": {},
   "source": [
    "The data file **en-fr.txt** is a subset of a [larger file](http://www.manythings.org/anki/fra-eng.zip) containing more than 190,000 phrases and their corresponding translations compiled as part of the [Tatoeba project](https://tatoeba.org/). The file is tab-delimited. Each line contains an English phrase, the equivalent French phrase, and an attribution identifying where the translation came from. We don’t need the attributions, so load the dataset into a Pandas DataFrame, remove the attribution column, and shuffle and reindex the rows."
   ]
  },
  {
   "cell_type": "code",
   "execution_count": 1,
   "metadata": {},
   "outputs": [
    {
     "data": {
      "text/html": [
       "<div>\n",
       "<style scoped>\n",
       "    .dataframe tbody tr th:only-of-type {\n",
       "        vertical-align: middle;\n",
       "    }\n",
       "\n",
       "    .dataframe tbody tr th {\n",
       "        vertical-align: top;\n",
       "    }\n",
       "\n",
       "    .dataframe thead th {\n",
       "        text-align: right;\n",
       "    }\n",
       "</style>\n",
       "<table border=\"1\" class=\"dataframe\">\n",
       "  <thead>\n",
       "    <tr style=\"text-align: right;\">\n",
       "      <th></th>\n",
       "      <th>en</th>\n",
       "      <th>fr</th>\n",
       "    </tr>\n",
       "  </thead>\n",
       "  <tbody>\n",
       "    <tr>\n",
       "      <th>0</th>\n",
       "      <td>You're very clever.</td>\n",
       "      <td>Vous êtes fort ingénieuse.</td>\n",
       "    </tr>\n",
       "    <tr>\n",
       "      <th>1</th>\n",
       "      <td>Are there kids?</td>\n",
       "      <td>Y a-t-il des enfants ?</td>\n",
       "    </tr>\n",
       "    <tr>\n",
       "      <th>2</th>\n",
       "      <td>Come in.</td>\n",
       "      <td>Entrez !</td>\n",
       "    </tr>\n",
       "    <tr>\n",
       "      <th>3</th>\n",
       "      <td>Where's Boston?</td>\n",
       "      <td>Où est Boston ?</td>\n",
       "    </tr>\n",
       "    <tr>\n",
       "      <th>4</th>\n",
       "      <td>You see what I mean?</td>\n",
       "      <td>Vous voyez ce que je veux dire ?</td>\n",
       "    </tr>\n",
       "  </tbody>\n",
       "</table>\n",
       "</div>"
      ],
      "text/plain": [
       "                     en                                fr\n",
       "0   You're very clever.        Vous êtes fort ingénieuse.\n",
       "1       Are there kids?            Y a-t-il des enfants ?\n",
       "2              Come in.                          Entrez !\n",
       "3       Where's Boston?                   Où est Boston ?\n",
       "4  You see what I mean?  Vous voyez ce que je veux dire ?"
      ]
     },
     "execution_count": 1,
     "metadata": {},
     "output_type": "execute_result"
    }
   ],
   "source": [
    "import pandas as pd\n",
    "\n",
    "df = pd.read_csv('Data/en-fr.txt', names=['en', 'fr', 'attr'], usecols=['en', 'fr'], sep='\\t')\n",
    "df = df.sample(frac=1, random_state=42)\n",
    "df = df.reset_index(drop=True)\n",
    "df.head()"
   ]
  },
  {
   "cell_type": "markdown",
   "metadata": {},
   "source": [
    "Clean the text by removing punctuation symbols and numbers, converting characters to lowercase, and replacing Unicode characters with their ASCII equivalents:"
   ]
  },
  {
   "cell_type": "code",
   "execution_count": 2,
   "metadata": {},
   "outputs": [
    {
     "data": {
      "text/html": [
       "<div>\n",
       "<style scoped>\n",
       "    .dataframe tbody tr th:only-of-type {\n",
       "        vertical-align: middle;\n",
       "    }\n",
       "\n",
       "    .dataframe tbody tr th {\n",
       "        vertical-align: top;\n",
       "    }\n",
       "\n",
       "    .dataframe thead th {\n",
       "        text-align: right;\n",
       "    }\n",
       "</style>\n",
       "<table border=\"1\" class=\"dataframe\">\n",
       "  <thead>\n",
       "    <tr style=\"text-align: right;\">\n",
       "      <th></th>\n",
       "      <th>en</th>\n",
       "      <th>fr</th>\n",
       "    </tr>\n",
       "  </thead>\n",
       "  <tbody>\n",
       "    <tr>\n",
       "      <th>0</th>\n",
       "      <td>youre very clever</td>\n",
       "      <td>vous etes fort ingenieuse</td>\n",
       "    </tr>\n",
       "    <tr>\n",
       "      <th>1</th>\n",
       "      <td>are there kids</td>\n",
       "      <td>y atil des enfants</td>\n",
       "    </tr>\n",
       "    <tr>\n",
       "      <th>2</th>\n",
       "      <td>come in</td>\n",
       "      <td>entrez</td>\n",
       "    </tr>\n",
       "    <tr>\n",
       "      <th>3</th>\n",
       "      <td>wheres boston</td>\n",
       "      <td>ou est boston</td>\n",
       "    </tr>\n",
       "    <tr>\n",
       "      <th>4</th>\n",
       "      <td>you see what i mean</td>\n",
       "      <td>vous voyez ce que je veux dire</td>\n",
       "    </tr>\n",
       "  </tbody>\n",
       "</table>\n",
       "</div>"
      ],
      "text/plain": [
       "                    en                               fr\n",
       "0    youre very clever        vous etes fort ingenieuse\n",
       "1       are there kids              y atil des enfants \n",
       "2              come in                           entrez\n",
       "3        wheres boston                    ou est boston\n",
       "4  you see what i mean  vous voyez ce que je veux dire "
      ]
     },
     "execution_count": 2,
     "metadata": {},
     "output_type": "execute_result"
    }
   ],
   "source": [
    "import re\n",
    "from unicodedata import normalize\n",
    "\n",
    "def clean_text(text):\n",
    "    text = normalize('NFD', text.lower())\n",
    "    text = re.sub('[^A-Za-z ]+', '', text)\n",
    "    return text\n",
    "\n",
    "df['en'] = df['en'].apply(lambda row: clean_text(row))\n",
    "df['fr'] = df['fr'].apply(lambda row: clean_text(row))\n",
    "df.head()"
   ]
  },
  {
   "cell_type": "markdown",
   "metadata": {},
   "source": [
    "The next step is to scan the phrases and determine the maximum length of the English phrases and then of the French phrases. These lengths will determine the lengths of the sequences input to and output from the model:"
   ]
  },
  {
   "cell_type": "code",
   "execution_count": 3,
   "metadata": {},
   "outputs": [
    {
     "name": "stdout",
     "output_type": "stream",
     "text": [
      "Max phrase length (English): 7\n",
      "Max phrase length (French): 14\n"
     ]
    }
   ],
   "source": [
    "en = df['en']\n",
    "fr = df['fr']\n",
    "\n",
    "en_max_len = max(len(line.split()) for line in en)\n",
    "fr_max_len = max(len(line.split()) for line in fr)\n",
    "\n",
    "print(f'Max phrase length (English): {en_max_len}')\n",
    "print(f'Max phrase length (French): {fr_max_len}')"
   ]
  },
  {
   "cell_type": "markdown",
   "metadata": {},
   "source": [
    "Now fit one `Tokenizer` to the English phrases and another `Tokenizer` to their French equivalents, and generate padded sequences for all the phrases:"
   ]
  },
  {
   "cell_type": "code",
   "execution_count": 4,
   "metadata": {},
   "outputs": [],
   "source": [
    "from tensorflow.keras.preprocessing.text import Tokenizer\n",
    "from tensorflow.keras.preprocessing.sequence import pad_sequences\n",
    "\n",
    "en_tokenizer = Tokenizer()\n",
    "en_tokenizer.fit_on_texts(en)\n",
    "en_sequences = en_tokenizer.texts_to_sequences(en)\n",
    "en_x = pad_sequences(en_sequences, maxlen=en_max_len, padding='post')\n",
    "\n",
    "fr_tokenizer = Tokenizer()\n",
    "fr_tokenizer.fit_on_texts(fr)\n",
    "fr_sequences = fr_tokenizer.texts_to_sequences(fr)\n",
    "fr_y = pad_sequences(fr_sequences, maxlen=fr_max_len, padding='post')"
   ]
  },
  {
   "cell_type": "markdown",
   "metadata": {},
   "source": [
    "Compute the vocabulary sizes from the `Tokenizer` instances:"
   ]
  },
  {
   "cell_type": "code",
   "execution_count": 5,
   "metadata": {},
   "outputs": [
    {
     "name": "stdout",
     "output_type": "stream",
     "text": [
      "Vocabulary size (English): 6033\n",
      "Vocabulary size (French): 12195\n"
     ]
    }
   ],
   "source": [
    "en_vocab_size = len(en_tokenizer.word_index) + 1\n",
    "fr_vocab_size = len(fr_tokenizer.word_index) + 1\n",
    "\n",
    "print(f'Vocabulary size (English): {en_vocab_size}')\n",
    "print(f'Vocabulary size (French): {fr_vocab_size}')"
   ]
  },
  {
   "cell_type": "markdown",
   "metadata": {},
   "source": [
    "## Build and train a model\n",
    "\n",
    "Now it's time to define a model. We'll start with an `Embedding` layer followed by an `LSTM` layer that encodes English phrases input to the model. A second `LSTM` layer decodes those phrases into their French equivalents. In between is a `RepeatVector` layer whose purpose is to reshape the output from the first `LSTM` layer for input to the second. The final layer is a softmax classification layer that outputs probabilities for each word in the French vocabulary. The `TimeDistributed` wrapper ensures that the model outputs a set of probabilities for each token (word) in the output rather than just one set for the entire sequence."
   ]
  },
  {
   "cell_type": "code",
   "execution_count": 6,
   "metadata": {},
   "outputs": [
    {
     "name": "stdout",
     "output_type": "stream",
     "text": [
      "Model: \"sequential\"\n",
      "____________________________________________________________________________________________________\n",
      " Layer (type)                                Output Shape                            Param #        \n",
      "====================================================================================================\n",
      " embedding (Embedding)                       (None, 7, 128)                          772224         \n",
      "                                                                                                    \n",
      " lstm (LSTM)                                 (None, 128)                             131584         \n",
      "                                                                                                    \n",
      " repeat_vector (RepeatVector)                (None, 14, 128)                         0              \n",
      "                                                                                                    \n",
      " lstm_1 (LSTM)                               (None, 14, 128)                         131584         \n",
      "                                                                                                    \n",
      " time_distributed (TimeDistributed)          (None, 14, 12195)                       1573155        \n",
      "                                                                                                    \n",
      "====================================================================================================\n",
      "Total params: 2,608,547\n",
      "Trainable params: 2,608,547\n",
      "Non-trainable params: 0\n",
      "____________________________________________________________________________________________________\n"
     ]
    }
   ],
   "source": [
    "from tensorflow.keras.models import Sequential\n",
    "from tensorflow.keras.layers import Dense, Embedding, LSTM, RepeatVector, TimeDistributed\n",
    "\n",
    "model = Sequential()\n",
    "model.add(Embedding(en_vocab_size, 128, input_length=en_max_len, mask_zero=True))\n",
    "model.add(LSTM(128))\n",
    "model.add(RepeatVector(fr_max_len))\n",
    "model.add(LSTM(128, return_sequences=True))\n",
    "model.add(TimeDistributed(Dense(fr_vocab_size, activation='softmax')))\n",
    "model.compile(loss='sparse_categorical_crossentropy', optimizer='adam')\n",
    "model.summary(line_length=100)"
   ]
  },
  {
   "cell_type": "markdown",
   "metadata": {},
   "source": [
    "Train the model:"
   ]
  },
  {
   "cell_type": "code",
   "execution_count": 7,
   "metadata": {},
   "outputs": [
    {
     "name": "stdout",
     "output_type": "stream",
     "text": [
      "Epoch 1/25\n",
      "800/800 [==============================] - 90s 108ms/step - loss: 2.3555 - val_loss: 1.9356\n",
      "Epoch 2/25\n",
      "800/800 [==============================] - 85s 107ms/step - loss: 1.8734 - val_loss: 1.8350\n",
      "Epoch 3/25\n",
      "800/800 [==============================] - 84s 105ms/step - loss: 1.7625 - val_loss: 1.7353\n",
      "Epoch 4/25\n",
      "800/800 [==============================] - 86s 107ms/step - loss: 1.6376 - val_loss: 1.6198\n",
      "Epoch 5/25\n",
      "800/800 [==============================] - 86s 108ms/step - loss: 1.5036 - val_loss: 1.5069\n",
      "Epoch 6/25\n",
      "800/800 [==============================] - 88s 110ms/step - loss: 1.3827 - val_loss: 1.4185\n",
      "Epoch 7/25\n",
      "800/800 [==============================] - 88s 110ms/step - loss: 1.2798 - val_loss: 1.3506\n",
      "Epoch 8/25\n",
      "800/800 [==============================] - 89s 111ms/step - loss: 1.1905 - val_loss: 1.2977\n",
      "Epoch 9/25\n",
      "800/800 [==============================] - 88s 110ms/step - loss: 1.1098 - val_loss: 1.2508\n",
      "Epoch 10/25\n",
      "800/800 [==============================] - 89s 112ms/step - loss: 1.0356 - val_loss: 1.2091\n",
      "Epoch 11/25\n",
      "800/800 [==============================] - 89s 112ms/step - loss: 0.9664 - val_loss: 1.1702\n",
      "Epoch 12/25\n",
      "800/800 [==============================] - 90s 112ms/step - loss: 0.9017 - val_loss: 1.1380\n",
      "Epoch 13/25\n",
      "800/800 [==============================] - 90s 112ms/step - loss: 0.8411 - val_loss: 1.1116\n",
      "Epoch 14/25\n",
      "800/800 [==============================] - 90s 113ms/step - loss: 0.7852 - val_loss: 1.0869\n",
      "Epoch 15/25\n",
      "800/800 [==============================] - 91s 114ms/step - loss: 0.7327 - val_loss: 1.0647\n",
      "Epoch 16/25\n",
      "800/800 [==============================] - 91s 114ms/step - loss: 0.6861 - val_loss: 1.0481\n",
      "Epoch 17/25\n",
      "800/800 [==============================] - 91s 114ms/step - loss: 0.6438 - val_loss: 1.0349\n",
      "Epoch 18/25\n",
      "800/800 [==============================] - 91s 114ms/step - loss: 0.6060 - val_loss: 1.0246\n",
      "Epoch 19/25\n",
      "800/800 [==============================] - 91s 114ms/step - loss: 0.5730 - val_loss: 1.0139\n",
      "Epoch 20/25\n",
      "800/800 [==============================] - 89s 111ms/step - loss: 0.5431 - val_loss: 1.0119\n",
      "Epoch 21/25\n",
      "800/800 [==============================] - 87s 109ms/step - loss: 0.5163 - val_loss: 1.0026\n",
      "Epoch 22/25\n",
      "800/800 [==============================] - 87s 109ms/step - loss: 0.4928 - val_loss: 0.9967\n",
      "Epoch 23/25\n",
      "800/800 [==============================] - 89s 111ms/step - loss: 0.4711 - val_loss: 0.9955\n",
      "Epoch 24/25\n",
      "800/800 [==============================] - 84s 106ms/step - loss: 0.4514 - val_loss: 0.9908\n",
      "Epoch 25/25\n",
      "800/800 [==============================] - 85s 107ms/step - loss: 0.4338 - val_loss: 0.9916\n"
     ]
    }
   ],
   "source": [
    "hist = model.fit(en_x, fr_y, epochs=25, batch_size=50, validation_split=0.2)"
   ]
  },
  {
   "cell_type": "markdown",
   "metadata": {},
   "source": [
    "Plot the per-epoch training and validation loss:"
   ]
  },
  {
   "cell_type": "code",
   "execution_count": 8,
   "metadata": {},
   "outputs": [
    {
     "data": {
      "text/plain": [
       "[]"
      ]
     },
     "execution_count": 8,
     "metadata": {},
     "output_type": "execute_result"
    },
    {
     "data": {
      "image/png": "[encoded data removed]",
      "text/plain": [
       "<Figure size 432x288 with 1 Axes>"
      ]
     },
     "metadata": {},
     "output_type": "display_data"
    }
   ],
   "source": [
    "import seaborn as sns\n",
    "import matplotlib.pyplot as plt\n",
    "%matplotlib inline\n",
    "sns.set()\n",
    "\n",
    "loss = hist.history['loss']\n",
    "val_loss = hist.history['val_loss']\n",
    "epochs = range(1, len(loss) + 1)\n",
    "\n",
    "plt.plot(epochs, loss, '-', label='Training loss')\n",
    "plt.plot(epochs, val_loss, ':', label='Validation loss')\n",
    "plt.title('Training and Validation Loss')\n",
    "plt.xlabel('Epoch')\n",
    "plt.ylabel('Loss')\n",
    "plt.legend(loc='upper right')\n",
    "plt.plot()"
   ]
  },
  {
   "cell_type": "markdown",
   "metadata": {},
   "source": [
    "## Use the model to translate text\n",
    "\n",
    "Can the model really translate English to French? Use a subset of the phrases reserved to validate the model to make predictions and see for yourself. Note the use of the French `Tokenizer`’s `sequences_to_texts` method to convert sequences representing French phrases predicted by the model into words:"
   ]
  },
  {
   "cell_type": "code",
   "execution_count": 9,
   "metadata": {},
   "outputs": [
    {
     "name": "stdout",
     "output_type": "stream",
     "text": [
      "its fall now => cest maintenant maintenant maintenant\n",
      "im losing => je suis train\n",
      "it was quite funny => cetait plutot amusant amusant\n",
      "thats not unusual => ce nest pas inhabituel\n",
      "i think ill do that => je pense que je cela\n",
      "tom looks different => tom a lair different\n",
      "its worth a try => ca vaut le dessayer dessayer\n",
      "fortune smiled on him => la chance sest a\n",
      "lets hit the road => cassonsnous\n",
      "i love winning => jadore lemporter\n"
     ]
    }
   ],
   "source": [
    "import numpy as np\n",
    "\n",
    "texts = en[40000:40010].values\n",
    "sequences = en_tokenizer.texts_to_sequences(texts)\n",
    "padded_sequences = pad_sequences(sequences, maxlen=en_max_len, padding='post')\n",
    "predictions = model.predict(padded_sequences)\n",
    "\n",
    "for i in range(len(predictions)):\n",
    "    indexes = [np.argmax(idx) for idx in predictions[i]]\n",
    "    translated_text = fr_tokenizer.sequences_to_texts([indexes])[0]\n",
    "    print(f'{texts[i]} => {translated_text}')"
   ]
  },
  {
   "cell_type": "markdown",
   "metadata": {},
   "source": [
    "Finally, see how the model translates \"Hello world\" into French:"
   ]
  },
  {
   "cell_type": "code",
   "execution_count": 10,
   "metadata": {},
   "outputs": [
    {
     "data": {
      "text/plain": [
       "['salut le monde']"
      ]
     },
     "execution_count": 10,
     "metadata": {},
     "output_type": "execute_result"
    }
   ],
   "source": [
    "text = 'Hello world'\n",
    "sequence = en_tokenizer.texts_to_sequences([text])\n",
    "padded_sequence = pad_sequences(sequence, maxlen=en_max_len, padding='post')\n",
    "prediction = model.predict(padded_sequence)[0]\n",
    "indexes = [np.argmax(idx) for idx in prediction]\n",
    "fr_tokenizer.sequences_to_texts([indexes])"
   ]
  },
  {
   "cell_type": "markdown",
   "metadata": {},
   "source": [
    "The model isn't perfect, but it's not bad, either. The vocabularies that you trained with are relatively small, but if you expanded the vocabularies and deepened the model – for example, if you included two `LSTM` layers for encoding and two for decoding – you'd have the makings of a fine NMT model."
   ]
  }
 ],
 "metadata": {
  "kernelspec": {
   "display_name": "Python 3",
   "language": "python",
   "name": "python3"
  },
  "language_info": {
   "codemirror_mode": {
    "name": "ipython",
    "version": 3
   },
   "file_extension": ".py",
   "mimetype": "text/x-python",
   "name": "python",
   "nbconvert_exporter": "python",
   "pygments_lexer": "ipython3",
   "version": "3.8.5"
  }
 },
 "nbformat": 4,
 "nbformat_minor": 4
}
