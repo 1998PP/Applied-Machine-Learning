{
 "cells": [
  {
   "cell_type": "markdown",
   "metadata": {},
   "source": [
    "# Neural Machine Translation (NMT)\n",
    "\n",
    "In the universe of natural language processing (NLP), text classification is a relatively simple task. At the opposite end of the difficulty spectrum lies neural machine translation (NMT), which uses deep learning to translate text from one language to another – for example, turning “Hello world” into “Salut le monde.” NMT has proven superior to the [rules-based machine translation](https://en.wikipedia.org/wiki/Rule-based_machine_translation) (RBMT) and [statistical machine translation](https://en.wikipedia.org/wiki/Statistical_machine_translation) (SMT) systems that predated the explosion of deep learning and today is the basis for virtually all state-of-the-art text-translation services. Let's use Keras and TensorFlow to build an NMT model that translates English to French."
   ]
  },
  {
   "cell_type": "markdown",
   "metadata": {},
   "source": [
    "The data file **en-fr.txt** is a subset of a [larger file](http://www.manythings.org/anki/fra-eng.zip) containing more than 190,000 phrases and their corresponding translations compiled as part of the [Tatoeba project](https://tatoeba.org/). The file is tab-delimited. Each line contains an English phrase, the equivalent French phrase, and an attribution identifying where the translation came from. We don’t need the attributions, so load the dataset into a Pandas DataFrame, remove the attribution column, and shuffle and reindex the rows."
   ]
  },
  {
   "cell_type": "code",
   "execution_count": 1,
   "metadata": {},
   "outputs": [
    {
     "data": {
      "text/html": [
       "<div>\n",
       "<style scoped>\n",
       "    .dataframe tbody tr th:only-of-type {\n",
       "        vertical-align: middle;\n",
       "    }\n",
       "\n",
       "    .dataframe tbody tr th {\n",
       "        vertical-align: top;\n",
       "    }\n",
       "\n",
       "    .dataframe thead th {\n",
       "        text-align: right;\n",
       "    }\n",
       "</style>\n",
       "<table border=\"1\" class=\"dataframe\">\n",
       "  <thead>\n",
       "    <tr style=\"text-align: right;\">\n",
       "      <th></th>\n",
       "      <th>en</th>\n",
       "      <th>fr</th>\n",
       "    </tr>\n",
       "  </thead>\n",
       "  <tbody>\n",
       "    <tr>\n",
       "      <th>0</th>\n",
       "      <td>You're very clever.</td>\n",
       "      <td>Vous êtes fort ingénieuse.</td>\n",
       "    </tr>\n",
       "    <tr>\n",
       "      <th>1</th>\n",
       "      <td>Are there kids?</td>\n",
       "      <td>Y a-t-il des enfants ?</td>\n",
       "    </tr>\n",
       "    <tr>\n",
       "      <th>2</th>\n",
       "      <td>Come in.</td>\n",
       "      <td>Entrez !</td>\n",
       "    </tr>\n",
       "    <tr>\n",
       "      <th>3</th>\n",
       "      <td>Where's Boston?</td>\n",
       "      <td>Où est Boston ?</td>\n",
       "    </tr>\n",
       "    <tr>\n",
       "      <th>4</th>\n",
       "      <td>You see what I mean?</td>\n",
       "      <td>Vous voyez ce que je veux dire ?</td>\n",
       "    </tr>\n",
       "  </tbody>\n",
       "</table>\n",
       "</div>"
      ],
      "text/plain": [
       "                     en                                fr\n",
       "0   You're very clever.        Vous êtes fort ingénieuse.\n",
       "1       Are there kids?            Y a-t-il des enfants ?\n",
       "2              Come in.                          Entrez !\n",
       "3       Where's Boston?                   Où est Boston ?\n",
       "4  You see what I mean?  Vous voyez ce que je veux dire ?"
      ]
     },
     "execution_count": 1,
     "metadata": {},
     "output_type": "execute_result"
    }
   ],
   "source": [
    "import pandas as pd\n",
    "\n",
    "df = pd.read_csv('Data/en-fr.txt', names=['en', 'fr', 'attr'], usecols=['en', 'fr'], sep='\\t')\n",
    "df = df.sample(frac=1, random_state=42)\n",
    "df = df.reset_index(drop=True)\n",
    "df.head()"
   ]
  },
  {
   "cell_type": "markdown",
   "metadata": {},
   "source": [
    "Clean the text by removing punctuation symbols and numbers, converting characters to lowercase, and replacing Unicode characters with their ASCII equivalents:"
   ]
  },
  {
   "cell_type": "code",
   "execution_count": 2,
   "metadata": {},
   "outputs": [
    {
     "data": {
      "text/html": [
       "<div>\n",
       "<style scoped>\n",
       "    .dataframe tbody tr th:only-of-type {\n",
       "        vertical-align: middle;\n",
       "    }\n",
       "\n",
       "    .dataframe tbody tr th {\n",
       "        vertical-align: top;\n",
       "    }\n",
       "\n",
       "    .dataframe thead th {\n",
       "        text-align: right;\n",
       "    }\n",
       "</style>\n",
       "<table border=\"1\" class=\"dataframe\">\n",
       "  <thead>\n",
       "    <tr style=\"text-align: right;\">\n",
       "      <th></th>\n",
       "      <th>en</th>\n",
       "      <th>fr</th>\n",
       "    </tr>\n",
       "  </thead>\n",
       "  <tbody>\n",
       "    <tr>\n",
       "      <th>0</th>\n",
       "      <td>youre very clever</td>\n",
       "      <td>vous etes fort ingenieuse</td>\n",
       "    </tr>\n",
       "    <tr>\n",
       "      <th>1</th>\n",
       "      <td>are there kids</td>\n",
       "      <td>y atil des enfants</td>\n",
       "    </tr>\n",
       "    <tr>\n",
       "      <th>2</th>\n",
       "      <td>come in</td>\n",
       "      <td>entrez</td>\n",
       "    </tr>\n",
       "    <tr>\n",
       "      <th>3</th>\n",
       "      <td>wheres boston</td>\n",
       "      <td>ou est boston</td>\n",
       "    </tr>\n",
       "    <tr>\n",
       "      <th>4</th>\n",
       "      <td>you see what i mean</td>\n",
       "      <td>vous voyez ce que je veux dire</td>\n",
       "    </tr>\n",
       "  </tbody>\n",
       "</table>\n",
       "</div>"
      ],
      "text/plain": [
       "                    en                               fr\n",
       "0    youre very clever        vous etes fort ingenieuse\n",
       "1       are there kids              y atil des enfants \n",
       "2              come in                           entrez\n",
       "3        wheres boston                    ou est boston\n",
       "4  you see what i mean  vous voyez ce que je veux dire "
      ]
     },
     "execution_count": 2,
     "metadata": {},
     "output_type": "execute_result"
    }
   ],
   "source": [
    "import re\n",
    "from unicodedata import normalize\n",
    "\n",
    "def clean_text(text):\n",
    "    text = normalize('NFD', text.lower())\n",
    "    text = re.sub('[^A-Za-z ]+', '', text)\n",
    "    return text\n",
    "\n",
    "df['en'] = df['en'].apply(lambda row: clean_text(row))\n",
    "df['fr'] = df['fr'].apply(lambda row: clean_text(row))\n",
    "df.head()"
   ]
  },
  {
   "cell_type": "markdown",
   "metadata": {},
   "source": [
    "The next step is to scan the phrases and determine the maximum length of the English phrases and then of the French phrases. These lengths will determine the lengths of the sequences input to and output from the model:"
   ]
  },
  {
   "cell_type": "code",
   "execution_count": 3,
   "metadata": {},
   "outputs": [
    {
     "name": "stdout",
     "output_type": "stream",
     "text": [
      "Max phrase length (English): 7\n",
      "Max phrase length (French): 14\n"
     ]
    }
   ],
   "source": [
    "en = df['en']\n",
    "fr = df['fr']\n",
    "\n",
    "en_max_len = max(len(line.split()) for line in en)\n",
    "fr_max_len = max(len(line.split()) for line in fr)\n",
    "\n",
    "print(f'Max phrase length (English): {en_max_len}')\n",
    "print(f'Max phrase length (French): {fr_max_len}')"
   ]
  },
  {
   "cell_type": "markdown",
   "metadata": {},
   "source": [
    "Now fit one `Tokenizer` to the English phrases and another `Tokenizer` to their French equivalents, and generate padded sequences for all the phrases:"
   ]
  },
  {
   "cell_type": "code",
   "execution_count": 4,
   "metadata": {},
   "outputs": [],
   "source": [
    "from tensorflow.keras.preprocessing.text import Tokenizer\n",
    "from tensorflow.keras.preprocessing.sequence import pad_sequences\n",
    "\n",
    "en_tokenizer = Tokenizer()\n",
    "en_tokenizer.fit_on_texts(en)\n",
    "en_sequences = en_tokenizer.texts_to_sequences(en)\n",
    "en_x = pad_sequences(en_sequences, maxlen=en_max_len, padding='post')\n",
    "\n",
    "fr_tokenizer = Tokenizer()\n",
    "fr_tokenizer.fit_on_texts(fr)\n",
    "fr_sequences = fr_tokenizer.texts_to_sequences(fr)\n",
    "fr_y = pad_sequences(fr_sequences, maxlen=fr_max_len, padding='post')"
   ]
  },
  {
   "cell_type": "markdown",
   "metadata": {},
   "source": [
    "Compute the vocabulary sizes from the `Tokenizer` instances:"
   ]
  },
  {
   "cell_type": "code",
   "execution_count": 5,
   "metadata": {},
   "outputs": [
    {
     "name": "stdout",
     "output_type": "stream",
     "text": [
      "Vocabulary size (English): 6033\n",
      "Vocabulary size (French): 12195\n"
     ]
    }
   ],
   "source": [
    "en_vocab_size = len(en_tokenizer.word_index) + 1\n",
    "fr_vocab_size = len(fr_tokenizer.word_index) + 1\n",
    "\n",
    "print(f'Vocabulary size (English): {en_vocab_size}')\n",
    "print(f'Vocabulary size (French): {fr_vocab_size}')"
   ]
  },
  {
   "cell_type": "markdown",
   "metadata": {},
   "source": [
    "## Build and train a model\n",
    "\n",
    "Now it's time to define a model. We'll start with an `Embedding` layer followed by an `LSTM` layer that encodes English phrases input to the model. A second `LSTM` layer decodes those phrases into their French equivalents. In between is a `RepeatVector` layer whose purpose is to reshape the output from the first `LSTM` layer for input to the second. The final layer is a softmax classification layer that outputs probabilities for each word in the French vocabulary. The `TimeDistributed` wrapper ensures that the model outputs a set of probabilities for each token (word) in the output rather than just one set for the entire sequence."
   ]
  },
  {
   "cell_type": "code",
   "execution_count": 6,
   "metadata": {},
   "outputs": [
    {
     "name": "stdout",
     "output_type": "stream",
     "text": [
      "Model: \"sequential\"\n",
      "____________________________________________________________________________________________________\n",
      " Layer (type)                                Output Shape                            Param #        \n",
      "====================================================================================================\n",
      " embedding (Embedding)                       (None, 7, 128)                          772224         \n",
      "                                                                                                    \n",
      " lstm (LSTM)                                 (None, 128)                             131584         \n",
      "                                                                                                    \n",
      " repeat_vector (RepeatVector)                (None, 14, 128)                         0              \n",
      "                                                                                                    \n",
      " lstm_1 (LSTM)                               (None, 14, 128)                         131584         \n",
      "                                                                                                    \n",
      " dropout (Dropout)                           (None, 14, 128)                         0              \n",
      "                                                                                                    \n",
      " time_distributed (TimeDistributed)          (None, 14, 12195)                       1573155        \n",
      "                                                                                                    \n",
      "====================================================================================================\n",
      "Total params: 2,608,547\n",
      "Trainable params: 2,608,547\n",
      "Non-trainable params: 0\n",
      "____________________________________________________________________________________________________\n"
     ]
    }
   ],
   "source": [
    "import numpy as np\n",
    "import tensorflow as tf\n",
    "from tensorflow.keras.models import Sequential\n",
    "from tensorflow.keras.layers import Dense, Embedding, LSTM, RepeatVector, TimeDistributed, Dropout\n",
    "\n",
    "np.random.seed(42)\n",
    "tf.random.set_seed(42)\n",
    "\n",
    "model = Sequential()\n",
    "model.add(Embedding(en_vocab_size, 128, input_length=en_max_len, mask_zero=True))\n",
    "model.add(LSTM(128))\n",
    "model.add(RepeatVector(fr_max_len))\n",
    "model.add(LSTM(128, return_sequences=True))\n",
    "model.add(Dropout(0.2))\n",
    "model.add(TimeDistributed(Dense(fr_vocab_size, activation='softmax')))\n",
    "model.compile(loss='sparse_categorical_crossentropy', optimizer='adam', metrics=['accuracy'])\n",
    "model.summary(line_length=100)"
   ]
  },
  {
   "cell_type": "markdown",
   "metadata": {},
   "source": [
    "Train the model:"
   ]
  },
  {
   "cell_type": "code",
   "execution_count": 7,
   "metadata": {},
   "outputs": [
    {
     "name": "stdout",
     "output_type": "stream",
     "text": [
      "Epoch 1/50\n",
      "800/800 [==============================] - 84s 101ms/step - loss: 2.3558 - accuracy: 0.7208 - val_loss: 1.9224 - val_accuracy: 0.7333\n",
      "Epoch 2/50\n",
      "800/800 [==============================] - 83s 103ms/step - loss: 1.8813 - accuracy: 0.7359 - val_loss: 1.8355 - val_accuracy: 0.7442\n",
      "Epoch 3/50\n",
      "800/800 [==============================] - 84s 105ms/step - loss: 1.7796 - accuracy: 0.7471 - val_loss: 1.7498 - val_accuracy: 0.7546\n",
      "Epoch 4/50\n",
      "800/800 [==============================] - 89s 111ms/step - loss: 1.6808 - accuracy: 0.7576 - val_loss: 1.6568 - val_accuracy: 0.7672\n",
      "Epoch 5/50\n",
      "800/800 [==============================] - 88s 110ms/step - loss: 1.5688 - accuracy: 0.7702 - val_loss: 1.5591 - val_accuracy: 0.7763\n",
      "Epoch 6/50\n",
      "800/800 [==============================] - 89s 111ms/step - loss: 1.4721 - accuracy: 0.7786 - val_loss: 1.4888 - val_accuracy: 0.7841\n",
      "Epoch 7/50\n",
      "800/800 [==============================] - 89s 111ms/step - loss: 1.3874 - accuracy: 0.7858 - val_loss: 1.4238 - val_accuracy: 0.7910\n",
      "Epoch 8/50\n",
      "800/800 [==============================] - 88s 110ms/step - loss: 1.3097 - accuracy: 0.7920 - val_loss: 1.3689 - val_accuracy: 0.7948\n",
      "Epoch 9/50\n",
      "800/800 [==============================] - 89s 111ms/step - loss: 1.2375 - accuracy: 0.7971 - val_loss: 1.3236 - val_accuracy: 0.7989\n",
      "Epoch 10/50\n",
      "800/800 [==============================] - 89s 111ms/step - loss: 1.1725 - accuracy: 0.8008 - val_loss: 1.2840 - val_accuracy: 0.8022\n",
      "Epoch 11/50\n",
      "800/800 [==============================] - 88s 110ms/step - loss: 1.1110 - accuracy: 0.8051 - val_loss: 1.2468 - val_accuracy: 0.8057\n",
      "Epoch 12/50\n",
      "800/800 [==============================] - 87s 108ms/step - loss: 1.0533 - accuracy: 0.8088 - val_loss: 1.2168 - val_accuracy: 0.8070\n",
      "Epoch 13/50\n",
      "800/800 [==============================] - 87s 108ms/step - loss: 0.9993 - accuracy: 0.8123 - val_loss: 1.1836 - val_accuracy: 0.8098\n",
      "Epoch 14/50\n",
      "800/800 [==============================] - 86s 107ms/step - loss: 0.9480 - accuracy: 0.8162 - val_loss: 1.1600 - val_accuracy: 0.8119\n",
      "Epoch 15/50\n",
      "800/800 [==============================] - 89s 111ms/step - loss: 0.8998 - accuracy: 0.8202 - val_loss: 1.1367 - val_accuracy: 0.8142\n",
      "Epoch 16/50\n",
      "800/800 [==============================] - 88s 110ms/step - loss: 0.8560 - accuracy: 0.8244 - val_loss: 1.1159 - val_accuracy: 0.8166\n",
      "Epoch 17/50\n",
      "800/800 [==============================] - 89s 111ms/step - loss: 0.8149 - accuracy: 0.8283 - val_loss: 1.0979 - val_accuracy: 0.8188\n",
      "Epoch 18/50\n",
      "800/800 [==============================] - 88s 110ms/step - loss: 0.7784 - accuracy: 0.8321 - val_loss: 1.0807 - val_accuracy: 0.8197\n",
      "Epoch 19/50\n",
      "800/800 [==============================] - 88s 110ms/step - loss: 0.7451 - accuracy: 0.8360 - val_loss: 1.0648 - val_accuracy: 0.8219\n",
      "Epoch 20/50\n",
      "800/800 [==============================] - 88s 109ms/step - loss: 0.7136 - accuracy: 0.8404 - val_loss: 1.0561 - val_accuracy: 0.8226\n",
      "Epoch 21/50\n",
      "800/800 [==============================] - 87s 109ms/step - loss: 0.6851 - accuracy: 0.8438 - val_loss: 1.0455 - val_accuracy: 0.8247\n",
      "Epoch 22/50\n",
      "800/800 [==============================] - 87s 109ms/step - loss: 0.6613 - accuracy: 0.8473 - val_loss: 1.0366 - val_accuracy: 0.8255\n",
      "Epoch 23/50\n",
      "800/800 [==============================] - 87s 109ms/step - loss: 0.6361 - accuracy: 0.8515 - val_loss: 1.0322 - val_accuracy: 0.8258\n",
      "Epoch 24/50\n",
      "800/800 [==============================] - 88s 110ms/step - loss: 0.6156 - accuracy: 0.8544 - val_loss: 1.0240 - val_accuracy: 0.8273\n",
      "Epoch 25/50\n",
      "800/800 [==============================] - 89s 112ms/step - loss: 0.5963 - accuracy: 0.8571 - val_loss: 1.0178 - val_accuracy: 0.8277\n",
      "Epoch 26/50\n",
      "800/800 [==============================] - 91s 114ms/step - loss: 0.5782 - accuracy: 0.8601 - val_loss: 1.0124 - val_accuracy: 0.8286\n",
      "Epoch 27/50\n",
      "800/800 [==============================] - 91s 114ms/step - loss: 0.5611 - accuracy: 0.8625 - val_loss: 1.0103 - val_accuracy: 0.8293\n",
      "Epoch 28/50\n",
      "800/800 [==============================] - 89s 112ms/step - loss: 0.5455 - accuracy: 0.8654 - val_loss: 1.0068 - val_accuracy: 0.8303\n",
      "Epoch 29/50\n",
      "800/800 [==============================] - 91s 114ms/step - loss: 0.5316 - accuracy: 0.8673 - val_loss: 1.0032 - val_accuracy: 0.8305\n",
      "Epoch 30/50\n",
      "800/800 [==============================] - 86s 108ms/step - loss: 0.5175 - accuracy: 0.8698 - val_loss: 1.0016 - val_accuracy: 0.8304\n",
      "Epoch 31/50\n",
      "800/800 [==============================] - 83s 103ms/step - loss: 0.5051 - accuracy: 0.8718 - val_loss: 1.0033 - val_accuracy: 0.8321\n",
      "Epoch 32/50\n",
      "800/800 [==============================] - 86s 107ms/step - loss: 0.4939 - accuracy: 0.8735 - val_loss: 0.9980 - val_accuracy: 0.8307\n",
      "Epoch 33/50\n",
      "800/800 [==============================] - 87s 109ms/step - loss: 0.4823 - accuracy: 0.8753 - val_loss: 0.9985 - val_accuracy: 0.8315\n",
      "Epoch 34/50\n",
      "800/800 [==============================] - 87s 109ms/step - loss: 0.4718 - accuracy: 0.8769 - val_loss: 0.9990 - val_accuracy: 0.8329\n",
      "Epoch 35/50\n",
      "800/800 [==============================] - 87s 109ms/step - loss: 0.4624 - accuracy: 0.8786 - val_loss: 0.9995 - val_accuracy: 0.8324\n",
      "Epoch 36/50\n",
      "800/800 [==============================] - 88s 110ms/step - loss: 0.4519 - accuracy: 0.8804 - val_loss: 1.0012 - val_accuracy: 0.8316\n",
      "Epoch 37/50\n",
      "800/800 [==============================] - 88s 110ms/step - loss: 0.4443 - accuracy: 0.8815 - val_loss: 1.0021 - val_accuracy: 0.8333\n",
      "Epoch 38/50\n",
      "800/800 [==============================] - 89s 112ms/step - loss: 0.4349 - accuracy: 0.8830 - val_loss: 0.9963 - val_accuracy: 0.8326\n",
      "Epoch 39/50\n",
      "800/800 [==============================] - 89s 111ms/step - loss: 0.4274 - accuracy: 0.8841 - val_loss: 1.0010 - val_accuracy: 0.8329\n",
      "Epoch 40/50\n",
      "800/800 [==============================] - 89s 111ms/step - loss: 0.4197 - accuracy: 0.8859 - val_loss: 1.0033 - val_accuracy: 0.8335\n",
      "Epoch 41/50\n",
      "800/800 [==============================] - 90s 113ms/step - loss: 0.4124 - accuracy: 0.8869 - val_loss: 1.0023 - val_accuracy: 0.8336\n",
      "Epoch 42/50\n",
      "800/800 [==============================] - 91s 113ms/step - loss: 0.4054 - accuracy: 0.8884 - val_loss: 1.0034 - val_accuracy: 0.8339\n",
      "Epoch 43/50\n",
      "800/800 [==============================] - 91s 114ms/step - loss: 0.3992 - accuracy: 0.8897 - val_loss: 1.0047 - val_accuracy: 0.8334\n",
      "Epoch 44/50\n",
      "800/800 [==============================] - 90s 113ms/step - loss: 0.3941 - accuracy: 0.8903 - val_loss: 1.0076 - val_accuracy: 0.8346\n",
      "Epoch 45/50\n",
      "800/800 [==============================] - 89s 111ms/step - loss: 0.3878 - accuracy: 0.8914 - val_loss: 1.0107 - val_accuracy: 0.8344\n",
      "Epoch 46/50\n",
      "800/800 [==============================] - 89s 111ms/step - loss: 0.3813 - accuracy: 0.8925 - val_loss: 1.0131 - val_accuracy: 0.8342\n",
      "Epoch 47/50\n",
      "800/800 [==============================] - 89s 111ms/step - loss: 0.3770 - accuracy: 0.8935 - val_loss: 1.0137 - val_accuracy: 0.8345\n"
     ]
    }
   ],
   "source": [
    "from tensorflow.keras.callbacks import EarlyStopping\n",
    "\n",
    "callback = EarlyStopping(monitor='val_accuracy', patience=3, restore_best_weights=True)\n",
    "hist = model.fit(en_x, fr_y, epochs=50, batch_size=50, validation_split=0.2, callbacks=[callback])"
   ]
  },
  {
   "cell_type": "markdown",
   "metadata": {},
   "source": [
    "Plot the per-epoch training and validation accuracy:"
   ]
  },
  {
   "cell_type": "code",
   "execution_count": 8,
   "metadata": {},
   "outputs": [
    {
     "data": {
      "text/plain": [
       "[]"
      ]
     },
     "execution_count": 8,
     "metadata": {},
     "output_type": "execute_result"
    },
    {
     "data": {
      "image/png": "[encoded data removed]",
      "text/plain": [
       "<Figure size 432x288 with 1 Axes>"
      ]
     },
     "metadata": {},
     "output_type": "display_data"
    }
   ],
   "source": [
    "import seaborn as sns\n",
    "import matplotlib.pyplot as plt\n",
    "%matplotlib inline\n",
    "sns.set()\n",
    "\n",
    "acc = hist.history['accuracy']\n",
    "val = hist.history['val_accuracy']\n",
    "epochs = range(1, len(acc) + 1)\n",
    "\n",
    "plt.plot(epochs, acc, '-', label='Training accuracy')\n",
    "plt.plot(epochs, val, ':', label='Validation accuracy')\n",
    "plt.title('Training and Validation Accuracy')\n",
    "plt.xlabel('Epoch')\n",
    "plt.ylabel('Accuracy')\n",
    "plt.legend(loc='lower right')\n",
    "plt.plot()"
   ]
  },
  {
   "cell_type": "markdown",
   "metadata": {},
   "source": [
    "## Use the model to translate text\n",
    "\n",
    "Can the model really translate English to French? Use a subset of the phrases reserved to validate the model to make predictions and see for yourself. Note the use of the French `Tokenizer`’s `sequences_to_texts` method to convert sequences representing French phrases predicted by the model into words:"
   ]
  },
  {
   "cell_type": "code",
   "execution_count": 9,
   "metadata": {},
   "outputs": [
    {
     "name": "stdout",
     "output_type": "stream",
     "text": [
      "its fall now => cest desormais maintenant\n",
      "im losing => je suis train perdre\n",
      "it was quite funny => cetait fut amusant amusant\n",
      "thats not unusual => ce nest pas inhabituel\n",
      "i think ill do that => je pense que je ca\n",
      "tom looks different => tom a lair different\n",
      "its worth a try => ca vaut un coup dessayer\n",
      "fortune smiled on him => la chance a a\n",
      "lets hit the road => cassonsnous\n",
      "i love winning => jadore gagner\n"
     ]
    }
   ],
   "source": [
    "texts = en[40000:40010].values\n",
    "sequences = en_tokenizer.texts_to_sequences(texts)\n",
    "padded_sequences = pad_sequences(sequences, maxlen=en_max_len, padding='post')\n",
    "predictions = model.predict(padded_sequences)\n",
    "\n",
    "for i in range(len(predictions)):\n",
    "    indexes = [np.argmax(idx) for idx in predictions[i]]\n",
    "    translated_text = fr_tokenizer.sequences_to_texts([indexes])[0]\n",
    "    print(f'{texts[i]} => {translated_text}')"
   ]
  },
  {
   "cell_type": "markdown",
   "metadata": {},
   "source": [
    "Finally, see how the model translates \"Hello world\" into French:"
   ]
  },
  {
   "cell_type": "code",
   "execution_count": 10,
   "metadata": {},
   "outputs": [
    {
     "data": {
      "text/plain": [
       "['salut le monde']"
      ]
     },
     "execution_count": 10,
     "metadata": {},
     "output_type": "execute_result"
    }
   ],
   "source": [
    "text = 'Hello world'\n",
    "sequence = en_tokenizer.texts_to_sequences([text])\n",
    "padded_sequence = pad_sequences(sequence, maxlen=en_max_len, padding='post')\n",
    "prediction = model.predict(padded_sequence)[0]\n",
    "indexes = [np.argmax(idx) for idx in prediction]\n",
    "fr_tokenizer.sequences_to_texts([indexes])"
   ]
  },
  {
   "cell_type": "markdown",
   "metadata": {},
   "source": [
    "The model isn't perfect, but it's not bad, either. The vocabularies that you trained with are relatively small, but if you expanded the vocabularies and deepened the model – for example, if you included two `LSTM` layers for encoding and two for decoding – you'd have the makings of a fine NMT model."
   ]
  }
 ],
 "metadata": {
  "kernelspec": {
   "display_name": "Python 3",
   "language": "python",
   "name": "python3"
  },
  "language_info": {
   "codemirror_mode": {
    "name": "ipython",
    "version": 3
   },
   "file_extension": ".py",
   "mimetype": "text/x-python",
   "name": "python",
   "nbconvert_exporter": "python",
   "pygments_lexer": "ipython3",
   "version": "3.8.5"
  }
 },
 "nbformat": 4,
 "nbformat_minor": 4
}
