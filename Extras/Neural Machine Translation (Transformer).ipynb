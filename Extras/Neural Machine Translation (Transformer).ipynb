{
 "cells": [
  {
   "cell_type": "code",
   "execution_count": 1,
   "metadata": {},
   "outputs": [
    {
     "data": {
      "text/html": [
       "<div>\n",
       "<style scoped>\n",
       "    .dataframe tbody tr th:only-of-type {\n",
       "        vertical-align: middle;\n",
       "    }\n",
       "\n",
       "    .dataframe tbody tr th {\n",
       "        vertical-align: top;\n",
       "    }\n",
       "\n",
       "    .dataframe thead th {\n",
       "        text-align: right;\n",
       "    }\n",
       "</style>\n",
       "<table border=\"1\" class=\"dataframe\">\n",
       "  <thead>\n",
       "    <tr style=\"text-align: right;\">\n",
       "      <th></th>\n",
       "      <th>en</th>\n",
       "      <th>fr</th>\n",
       "    </tr>\n",
       "  </thead>\n",
       "  <tbody>\n",
       "    <tr>\n",
       "      <th>0</th>\n",
       "      <td>You're very clever.</td>\n",
       "      <td>Vous êtes fort ingénieuse.</td>\n",
       "    </tr>\n",
       "    <tr>\n",
       "      <th>1</th>\n",
       "      <td>Are there kids?</td>\n",
       "      <td>Y a-t-il des enfants ?</td>\n",
       "    </tr>\n",
       "    <tr>\n",
       "      <th>2</th>\n",
       "      <td>Come in.</td>\n",
       "      <td>Entrez !</td>\n",
       "    </tr>\n",
       "    <tr>\n",
       "      <th>3</th>\n",
       "      <td>Where's Boston?</td>\n",
       "      <td>Où est Boston ?</td>\n",
       "    </tr>\n",
       "    <tr>\n",
       "      <th>4</th>\n",
       "      <td>You see what I mean?</td>\n",
       "      <td>Vous voyez ce que je veux dire ?</td>\n",
       "    </tr>\n",
       "  </tbody>\n",
       "</table>\n",
       "</div>"
      ],
      "text/plain": [
       "                     en                                fr\n",
       "0   You're very clever.        Vous êtes fort ingénieuse.\n",
       "1       Are there kids?            Y a-t-il des enfants ?\n",
       "2              Come in.                          Entrez !\n",
       "3       Where's Boston?                   Où est Boston ?\n",
       "4  You see what I mean?  Vous voyez ce que je veux dire ?"
      ]
     },
     "execution_count": 1,
     "metadata": {},
     "output_type": "execute_result"
    }
   ],
   "source": [
    "import pandas as pd\n",
    "\n",
    "df = pd.read_csv('Data/en-fr.txt', names=['en', 'fr', 'attr'], usecols=['en', 'fr'], sep='\\t')\n",
    "df = df.sample(frac=1, random_state=42)\n",
    "df = df.reset_index(drop=True)\n",
    "df.head()"
   ]
  },
  {
   "cell_type": "code",
   "execution_count": 2,
   "metadata": {},
   "outputs": [
    {
     "data": {
      "text/html": [
       "<div>\n",
       "<style scoped>\n",
       "    .dataframe tbody tr th:only-of-type {\n",
       "        vertical-align: middle;\n",
       "    }\n",
       "\n",
       "    .dataframe tbody tr th {\n",
       "        vertical-align: top;\n",
       "    }\n",
       "\n",
       "    .dataframe thead th {\n",
       "        text-align: right;\n",
       "    }\n",
       "</style>\n",
       "<table border=\"1\" class=\"dataframe\">\n",
       "  <thead>\n",
       "    <tr style=\"text-align: right;\">\n",
       "      <th></th>\n",
       "      <th>en</th>\n",
       "      <th>fr</th>\n",
       "    </tr>\n",
       "  </thead>\n",
       "  <tbody>\n",
       "    <tr>\n",
       "      <th>0</th>\n",
       "      <td>youre very clever</td>\n",
       "      <td>[start] vous etes fort ingenieuse [end]</td>\n",
       "    </tr>\n",
       "    <tr>\n",
       "      <th>1</th>\n",
       "      <td>are there kids</td>\n",
       "      <td>[start] y atil des enfants  [end]</td>\n",
       "    </tr>\n",
       "    <tr>\n",
       "      <th>2</th>\n",
       "      <td>come in</td>\n",
       "      <td>[start] entrez [end]</td>\n",
       "    </tr>\n",
       "    <tr>\n",
       "      <th>3</th>\n",
       "      <td>wheres boston</td>\n",
       "      <td>[start] ou est boston [end]</td>\n",
       "    </tr>\n",
       "    <tr>\n",
       "      <th>4</th>\n",
       "      <td>you see what i mean</td>\n",
       "      <td>[start] vous voyez ce que je veux dire  [end]</td>\n",
       "    </tr>\n",
       "  </tbody>\n",
       "</table>\n",
       "</div>"
      ],
      "text/plain": [
       "                    en                                             fr\n",
       "0    youre very clever        [start] vous etes fort ingenieuse [end]\n",
       "1       are there kids              [start] y atil des enfants  [end]\n",
       "2              come in                           [start] entrez [end]\n",
       "3        wheres boston                    [start] ou est boston [end]\n",
       "4  you see what i mean  [start] vous voyez ce que je veux dire  [end]"
      ]
     },
     "execution_count": 2,
     "metadata": {},
     "output_type": "execute_result"
    }
   ],
   "source": [
    "import re\n",
    "from unicodedata import normalize\n",
    "\n",
    "def clean_text(text):\n",
    "    text = normalize('NFD', text.lower())\n",
    "    text = re.sub('[^A-Za-z ]+', '', text)\n",
    "    return text\n",
    "\n",
    "def clean_and_prepare_text(text):\n",
    "    text = '[start] ' + clean_text(text) + ' [end]'\n",
    "    return text\n",
    "\n",
    "df['en'] = df['en'].apply(lambda row: clean_text(row))\n",
    "df['fr'] = df['fr'].apply(lambda row: clean_and_prepare_text(row))\n",
    "df.head()"
   ]
  },
  {
   "cell_type": "code",
   "execution_count": 3,
   "metadata": {},
   "outputs": [
    {
     "name": "stdout",
     "output_type": "stream",
     "text": [
      "Max phrase length (English): 7\n",
      "Max phrase length (French): 16\n",
      "Sequence length: 16\n"
     ]
    }
   ],
   "source": [
    "en = df['en']\n",
    "fr = df['fr']\n",
    "\n",
    "en_max_len = max(len(line.split()) for line in en)\n",
    "fr_max_len = max(len(line.split()) for line in fr)\n",
    "sequence_len = max(en_max_len, fr_max_len)\n",
    "\n",
    "print(f'Max phrase length (English): {en_max_len}')\n",
    "print(f'Max phrase length (French): {fr_max_len}')\n",
    "print(f'Sequence length: {sequence_len}')"
   ]
  },
  {
   "cell_type": "code",
   "execution_count": 4,
   "metadata": {},
   "outputs": [],
   "source": [
    "from tensorflow.keras.preprocessing.text import Tokenizer\n",
    "from tensorflow.keras.preprocessing.sequence import pad_sequences\n",
    "\n",
    "en_tokenizer = Tokenizer(oov_token='[UNK]')\n",
    "en_tokenizer.fit_on_texts(en)\n",
    "en_sequences = en_tokenizer.texts_to_sequences(en)\n",
    "en_x = pad_sequences(en_sequences, maxlen=sequence_len, padding='post')\n",
    "\n",
    "fr_tokenizer = Tokenizer(filters='!\"#$%&()*+,-./:;<=>?@\\\\^_`{|}~\\t\\n', oov_token='[UNK]') # Do not strip [] characters\n",
    "fr_tokenizer.fit_on_texts(fr)\n",
    "fr_sequences = fr_tokenizer.texts_to_sequences(fr)\n",
    "fr_y = pad_sequences(fr_sequences, maxlen=sequence_len + 1, padding='post')"
   ]
  },
  {
   "cell_type": "code",
   "execution_count": 5,
   "metadata": {},
   "outputs": [
    {
     "name": "stdout",
     "output_type": "stream",
     "text": [
      "Vocabulary size (English): 6034\n",
      "Vocabulary size (French): 12198\n"
     ]
    }
   ],
   "source": [
    "en_vocab_size = len(en_tokenizer.word_index) + 1\n",
    "fr_vocab_size = len(fr_tokenizer.word_index) + 1\n",
    "\n",
    "print(f'Vocabulary size (English): {en_vocab_size}')\n",
    "print(f'Vocabulary size (French): {fr_vocab_size}')"
   ]
  },
  {
   "cell_type": "code",
   "execution_count": 6,
   "metadata": {},
   "outputs": [],
   "source": [
    "inputs = { 'encoder_inputs': en_x, 'decoder_inputs': fr_y[:, :-1] }\n",
    "outputs = fr_y[:, 1:]"
   ]
  },
  {
   "cell_type": "markdown",
   "metadata": {},
   "source": [
    "## Build and train a model"
   ]
  },
  {
   "cell_type": "code",
   "execution_count": 7,
   "metadata": {},
   "outputs": [
    {
     "name": "stdout",
     "output_type": "stream",
     "text": [
      "Model: \"transformer\"\n",
      "________________________________________________________________________________________________________________________\n",
      " Layer (type)                          Output Shape               Param #       Connected to                            \n",
      "========================================================================================================================\n",
      " encoder_inputs (InputLayer)           [(None, None)]             0             []                                      \n",
      "                                                                                                                        \n",
      " token_and_position_embedding (TokenAn  (None, None, 256)         1548800       ['encoder_inputs[0][0]']                \n",
      " dPositionEmbedding)                                                                                                    \n",
      "                                                                                                                        \n",
      " decoder_inputs (InputLayer)           [(None, None)]             0             []                                      \n",
      "                                                                                                                        \n",
      " transformer_encoder (TransformerEncod  (None, None, 256)         395776        ['token_and_position_embedding[0][0]']  \n",
      " er)                                                                                                                    \n",
      "                                                                                                                        \n",
      " model_1 (Functional)                  (None, None, 12198)        7840422       ['decoder_inputs[0][0]',                \n",
      "                                                                                 'transformer_encoder[0][0]']           \n",
      "                                                                                                                        \n",
      "========================================================================================================================\n",
      "Total params: 9,784,998\n",
      "Trainable params: 9,784,998\n",
      "Non-trainable params: 0\n",
      "________________________________________________________________________________________________________________________\n"
     ]
    }
   ],
   "source": [
    "import numpy as np\n",
    "import tensorflow as tf\n",
    "from tensorflow.keras import Model\n",
    "from tensorflow.keras.layers import Input, Dense, Dropout\n",
    "from keras_nlp.layers import TokenAndPositionEmbedding, TransformerEncoder, TransformerDecoder\n",
    "\n",
    "np.random.seed(42)\n",
    "tf.random.set_seed(42)\n",
    "\n",
    "embed_dim = 256\n",
    "num_heads = 8\n",
    "\n",
    "encoder_inputs = Input(shape=(None,), dtype='int64', name='encoder_inputs')\n",
    "x = TokenAndPositionEmbedding(en_vocab_size, sequence_len, embed_dim)(encoder_inputs)\n",
    "encoder_outputs = TransformerEncoder(embed_dim, num_heads)(x)\n",
    "encoder = Model(encoder_inputs, encoder_outputs)\n",
    "\n",
    "decoder_inputs = Input(shape=(None,), dtype='int64', name='decoder_inputs')\n",
    "encoded_seq_inputs = Input(shape=(None, embed_dim), name='decoder_state_inputs')\n",
    "x = TokenAndPositionEmbedding(fr_vocab_size, sequence_len, embed_dim, mask_zero=True)(decoder_inputs)\n",
    "x = TransformerDecoder(embed_dim, num_heads)(x, encoded_seq_inputs, use_causal_mask=True)\n",
    "x = Dropout(0.5)(x)\n",
    "\n",
    "decoder_outputs = Dense(fr_vocab_size, activation='softmax')(x)\n",
    "decoder = Model([decoder_inputs, encoded_seq_inputs], decoder_outputs)\n",
    "decoder_outputs = decoder([decoder_inputs, encoder_outputs])\n",
    "\n",
    "model = Model(\n",
    "    [encoder_inputs, decoder_inputs], decoder_outputs, name='transformer'\n",
    ")\n",
    "\n",
    "model.compile(optimizer='adam', loss='sparse_categorical_crossentropy', metrics=['accuracy'])\n",
    "model.summary(line_length=120)"
   ]
  },
  {
   "cell_type": "code",
   "execution_count": 8,
   "metadata": {},
   "outputs": [
    {
     "name": "stdout",
     "output_type": "stream",
     "text": [
      "Epoch 1/50\n",
      "1250/1250 [==============================] - 134s 106ms/step - loss: 1.3800 - accuracy: 0.4682 - val_loss: 1.0198 - val_accuracy: 0.5717\n",
      "Epoch 2/50\n",
      "1250/1250 [==============================] - 132s 105ms/step - loss: 0.9269 - accuracy: 0.6029 - val_loss: 0.8032 - val_accuracy: 0.6457\n",
      "Epoch 3/50\n",
      "1250/1250 [==============================] - 130s 104ms/step - loss: 0.7140 - accuracy: 0.6676 - val_loss: 0.6765 - val_accuracy: 0.6912\n",
      "Epoch 4/50\n",
      "1250/1250 [==============================] - 132s 106ms/step - loss: 0.5850 - accuracy: 0.7077 - val_loss: 0.6195 - val_accuracy: 0.7102\n",
      "Epoch 5/50\n",
      "1250/1250 [==============================] - 135s 108ms/step - loss: 0.4994 - accuracy: 0.7337 - val_loss: 0.5894 - val_accuracy: 0.7240\n",
      "Epoch 6/50\n",
      "1250/1250 [==============================] - 135s 108ms/step - loss: 0.4382 - accuracy: 0.7544 - val_loss: 0.5674 - val_accuracy: 0.7337\n",
      "Epoch 7/50\n",
      "1250/1250 [==============================] - 136s 108ms/step - loss: 0.3925 - accuracy: 0.7680 - val_loss: 0.5628 - val_accuracy: 0.7373\n",
      "Epoch 8/50\n",
      "1250/1250 [==============================] - 134s 108ms/step - loss: 0.3595 - accuracy: 0.7799 - val_loss: 0.5483 - val_accuracy: 0.7447\n",
      "Epoch 9/50\n",
      "1250/1250 [==============================] - 134s 107ms/step - loss: 0.3312 - accuracy: 0.7906 - val_loss: 0.5582 - val_accuracy: 0.7432\n",
      "Epoch 10/50\n",
      "1250/1250 [==============================] - 134s 107ms/step - loss: 0.3067 - accuracy: 0.8007 - val_loss: 0.5562 - val_accuracy: 0.7446\n",
      "Epoch 11/50\n",
      "1250/1250 [==============================] - 139s 111ms/step - loss: 0.2884 - accuracy: 0.8084 - val_loss: 0.5526 - val_accuracy: 0.7469\n",
      "Epoch 12/50\n",
      "1250/1250 [==============================] - 133s 107ms/step - loss: 0.2717 - accuracy: 0.8161 - val_loss: 0.5522 - val_accuracy: 0.7516\n",
      "Epoch 13/50\n",
      "1250/1250 [==============================] - 135s 108ms/step - loss: 0.2590 - accuracy: 0.8220 - val_loss: 0.5616 - val_accuracy: 0.7498\n",
      "Epoch 14/50\n",
      "1250/1250 [==============================] - 137s 109ms/step - loss: 0.2469 - accuracy: 0.8279 - val_loss: 0.5697 - val_accuracy: 0.7480\n",
      "Epoch 15/50\n",
      "1250/1250 [==============================] - 137s 110ms/step - loss: 0.2350 - accuracy: 0.8338 - val_loss: 0.5658 - val_accuracy: 0.7531\n",
      "Epoch 16/50\n",
      "1250/1250 [==============================] - 137s 109ms/step - loss: 0.2277 - accuracy: 0.8374 - val_loss: 0.5665 - val_accuracy: 0.7554\n",
      "Epoch 17/50\n",
      "1250/1250 [==============================] - 138s 110ms/step - loss: 0.2211 - accuracy: 0.8410 - val_loss: 0.5753 - val_accuracy: 0.7533\n",
      "Epoch 18/50\n",
      "1250/1250 [==============================] - 136s 109ms/step - loss: 0.2101 - accuracy: 0.8461 - val_loss: 0.5768 - val_accuracy: 0.7525\n",
      "Epoch 19/50\n",
      "1250/1250 [==============================] - 136s 109ms/step - loss: 0.2050 - accuracy: 0.8505 - val_loss: 0.5782 - val_accuracy: 0.7545\n"
     ]
    }
   ],
   "source": [
    "from tensorflow.keras.callbacks import EarlyStopping\n",
    "\n",
    "callback = EarlyStopping(monitor='val_accuracy', patience=3, restore_best_weights=True)\n",
    "hist = model.fit(inputs, outputs, epochs=50, validation_split=0.2, callbacks=[callback])\n",
    "#hist = model.fit(inputs, outputs, epochs=30, validation_split=0.2)"
   ]
  },
  {
   "cell_type": "code",
   "execution_count": 9,
   "metadata": {},
   "outputs": [
    {
     "data": {
      "text/plain": [
       "[]"
      ]
     },
     "execution_count": 9,
     "metadata": {},
     "output_type": "execute_result"
    },
    {
     "data": {
      "image/png": "[encoded data removed]",
      "text/plain": [
       "<Figure size 432x288 with 1 Axes>"
      ]
     },
     "metadata": {},
     "output_type": "display_data"
    }
   ],
   "source": [
    "import seaborn as sns\n",
    "import matplotlib.pyplot as plt\n",
    "%matplotlib inline\n",
    "sns.set()\n",
    "\n",
    "acc = hist.history['accuracy']\n",
    "val = hist.history['val_accuracy']\n",
    "epochs = range(1, len(acc) + 1)\n",
    "\n",
    "plt.plot(epochs, acc, '-', label='Training accuracy')\n",
    "plt.plot(epochs, val, ':', label='Validation accuracy')\n",
    "plt.title('Training and Validation Accuracy')\n",
    "plt.xlabel('Epoch')\n",
    "plt.ylabel('Accuracy')\n",
    "plt.legend(loc='lower right')\n",
    "plt.plot()"
   ]
  },
  {
   "cell_type": "code",
   "execution_count": 10,
   "metadata": {},
   "outputs": [],
   "source": [
    "#model.save('Data/NMT_transformer_model')"
   ]
  },
  {
   "cell_type": "code",
   "execution_count": 13,
   "metadata": {},
   "outputs": [
    {
     "name": "stdout",
     "output_type": "stream",
     "text": [
      "its fall now => cest tombe maintenant\n",
      "im losing => je suis en train de perdre\n",
      "it was quite funny => cetait assez amusant\n",
      "thats not unusual => ce nest pas inhabituel\n",
      "i think ill do that => je pense que je vais faire ca\n",
      "tom looks different => tom a lair different\n",
      "its worth a try => ca vaut le coup dessayer\n",
      "fortune smiled on him => la chance lui a souri\n",
      "lets hit the road => taillons la route\n",
      "i love winning => jadore gagner\n"
     ]
    }
   ],
   "source": [
    "import numpy as np\n",
    "\n",
    "def translate_text(text, model, en_tokenizer, fr_tokenizer, fr_index_lookup):\n",
    "    input_sequence = en_tokenizer.texts_to_sequences([text])\n",
    "    padded_input_sequence = pad_sequences(input_sequence, maxlen=sequence_len, padding='post')\n",
    "    decoded_sentence = '[start]'\n",
    "\n",
    "    for i in range(sequence_len):\n",
    "        target_sequence = fr_tokenizer.texts_to_sequences([decoded_sentence])\n",
    "        padded_target_sequence = pad_sequences(target_sequence, maxlen=sequence_len, padding='post')[:, :-1]\n",
    "        \n",
    "        prediction = model([padded_input_sequence, padded_target_sequence])\n",
    "\n",
    "        sampled_token_index = np.argmax(prediction[0, i, :]) - 1\n",
    "        sampled_token = fr_index_lookup[sampled_token_index]\n",
    "        decoded_sentence += ' ' + sampled_token\n",
    "\n",
    "        if sampled_token == '[end]':\n",
    "            break\n",
    "    \n",
    "    return decoded_sentence[8:-6]\n",
    "\n",
    "fr_vocab = fr_tokenizer.word_index\n",
    "fr_index_lookup = dict(zip(range(len(fr_vocab)), fr_vocab))\n",
    "sentences = en[40000:40010].values\n",
    "\n",
    "for sentence in sentences:\n",
    "    translated = translate_text(sentence, model, en_tokenizer, fr_tokenizer, fr_index_lookup)\n",
    "    print(f'{sentence} => {translated}')"
   ]
  },
  {
   "cell_type": "code",
   "execution_count": 16,
   "metadata": {},
   "outputs": [
    {
     "data": {
      "text/plain": [
       "'salut tom'"
      ]
     },
     "execution_count": 16,
     "metadata": {},
     "output_type": "execute_result"
    }
   ],
   "source": [
    "text = 'Hello world'\n",
    "translate_text(text, model, en_tokenizer, fr_tokenizer, fr_index_lookup)"
   ]
  }
 ],
 "metadata": {
  "kernelspec": {
   "display_name": "Python 3",
   "language": "python",
   "name": "python3"
  },
  "language_info": {
   "codemirror_mode": {
    "name": "ipython",
    "version": 3
   },
   "file_extension": ".py",
   "mimetype": "text/x-python",
   "name": "python",
   "nbconvert_exporter": "python",
   "pygments_lexer": "ipython3",
   "version": "3.8.5"
  }
 },
 "nbformat": 4,
 "nbformat_minor": 4
}
