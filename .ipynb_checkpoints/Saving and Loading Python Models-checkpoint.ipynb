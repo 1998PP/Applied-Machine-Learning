{
 "cells": [
  {
   "cell_type": "markdown",
   "metadata": {},
   "source": [
    "# Saving and Loading Python Models\n",
    "\n",
    "Scikit models written in Python can be saved with one line of code and loaded with another. This enables client apps that rely on these models to recreate them in their trained state and consume them without training them again. You can save and load models with [pickle](https://docs.python.org/3/library/pickle.html), or you can save and load them with [ONNX](https://onnx.ai/). Here are some examples of both."
   ]
  },
  {
   "cell_type": "markdown",
   "metadata": {},
   "source": [
    "The following code trains a binary-classification model on the Titanic dataset and saves it to a pickle file:"
   ]
  },
  {
   "cell_type": "code",
   "execution_count": 1,
   "metadata": {},
   "outputs": [],
   "source": [
    "import pickle\n",
    "import pandas as pd\n",
    "from sklearn.linear_model import LogisticRegression\n",
    " \n",
    "df = pd.read_csv('Data/titanic.csv')\n",
    "df = df[['Survived', 'Age', 'Sex', 'Pclass']]\n",
    "df = pd.get_dummies(df, columns=['Sex', 'Pclass'])\n",
    "df.dropna(inplace=True)\n",
    " \n",
    "x = df.drop('Survived', axis=1)\n",
    "y = df['Survived']\n",
    " \n",
    "model = LogisticRegression(random_state=0)\n",
    "model.fit(x, y)\n",
    " \n",
    "pickle.dump(model, open('titanic.pkl', 'wb'))"
   ]
  },
  {
   "cell_type": "markdown",
   "metadata": {},
   "source": [
    "The next example loads the trained model and uses it to predict the odds that a 30-year-old female traveling in first class will survive the Titanic's final voyage:"
   ]
  },
  {
   "cell_type": "code",
   "execution_count": 2,
   "metadata": {},
   "outputs": [
    {
     "name": "stdout",
     "output_type": "stream",
     "text": [
      "Probability of survival: 92.8%\n"
     ]
    }
   ],
   "source": [
    "import pickle\n",
    "import pandas as pd\n",
    "\n",
    "model = pickle.load(open('titanic.pkl', 'rb'))\n",
    "\n",
    "female = pd.DataFrame({ 'Age': [30], 'Sex_female': [1], 'Sex_male': [0],\n",
    "                        'Pclass_1': [1], 'Pclass_2': [0], 'Pclass_3': [0] })\n",
    "\n",
    "probability = model.predict_proba(female)[0][1]\n",
    "print(f'Probability of survival: {probability:.1%}')"
   ]
  },
  {
   "cell_type": "markdown",
   "metadata": {},
   "source": [
    "The following code trains and saves a sentiment-analysis model. This time, a pipeline containing a `CountVectorizer` and a `LogisticRegression` classifier is saved:"
   ]
  },
  {
   "cell_type": "code",
   "execution_count": 3,
   "metadata": {},
   "outputs": [],
   "source": [
    "import pickle\n",
    "import pandas as pd\n",
    "from sklearn.feature_extraction.text import CountVectorizer\n",
    "from sklearn.linear_model import LogisticRegression\n",
    "from sklearn.pipeline import make_pipeline\n",
    " \n",
    "df = pd.read_csv('Data/reviews.csv', encoding=\"ISO-8859-1\")\n",
    "df = df.drop_duplicates()\n",
    " \n",
    "x = df['Text']\n",
    "y = df['Sentiment']\n",
    " \n",
    "vectorizer = CountVectorizer(ngram_range=(1, 2), stop_words='english',\n",
    "                             min_df=20)\n",
    "\n",
    "model = LogisticRegression(max_iter=1000, random_state=0)\n",
    "pipe = make_pipeline(vectorizer, model)\n",
    "pipe.fit(x, y)\n",
    " \n",
    "pickle.dump(pipe, open('sentiment.pkl', 'wb'))"
   ]
  },
  {
   "cell_type": "markdown",
   "metadata": {},
   "source": [
    "A Python client can deserialize the pipeline and call `predict_proba` to score a line of text for sentiment with a few simple lines of code:"
   ]
  },
  {
   "cell_type": "code",
   "execution_count": 4,
   "metadata": {},
   "outputs": [
    {
     "data": {
      "text/plain": [
       "0.8826906828210357"
      ]
     },
     "execution_count": 4,
     "metadata": {},
     "output_type": "execute_result"
    }
   ],
   "source": [
    "import pickle\n",
    "\n",
    "pipe = pickle.load(open('sentiment.pkl', 'rb'))\n",
    "pipe.predict_proba(['Great food and excellent service!'])[0][1]"
   ]
  },
  {
   "cell_type": "markdown",
   "metadata": {},
   "source": [
    "A model saved with the pickle module can only be loaded in Python. But you can save Scikit models in ONNX format and consume them in other languages, too. The following statements save the sentiment-analysis pipeline in an ONNX file:"
   ]
  },
  {
   "cell_type": "code",
   "execution_count": 5,
   "metadata": {},
   "outputs": [
    {
     "name": "stderr",
     "output_type": "stream",
     "text": [
      "c:\\users\\jeffp\\appdata\\local\\programs\\python\\python38\\lib\\site-packages\\skl2onnx\\operator_converters\\text_vectoriser.py:187: UserWarning: Converter for TfidfVectorizer will use scikit-learn regular expression by default in version 1.6.\n",
      "  warnings.warn(\"Converter for TfidfVectorizer will use \"\n",
      "c:\\users\\jeffp\\appdata\\local\\programs\\python\\python38\\lib\\site-packages\\skl2onnx\\common\\_container.py:695: UserWarning: Unable to find operator 'Tokenizer' in domain 'com.microsoft' in ONNX, op_version is forced to 1.\n",
      "  warnings.warn(\n"
     ]
    }
   ],
   "source": [
    "from skl2onnx import convert_sklearn\n",
    "from skl2onnx.common.data_types import StringTensorType\n",
    "\n",
    "initial_type = [('string_input', StringTensorType([None, 1]))]\n",
    "onnx = convert_sklearn(pipe, initial_types=initial_type)\n",
    "\n",
    "with open('sentiment.onnx', 'wb') as f:\n",
    "    f.write(onnx.SerializeToString())"
   ]
  },
  {
   "cell_type": "markdown",
   "metadata": {},
   "source": [
    "These statements use the ONNX runtime for Python to load the model and call `predict_proba`:"
   ]
  },
  {
   "cell_type": "code",
   "execution_count": 6,
   "metadata": {},
   "outputs": [
    {
     "data": {
      "text/plain": [
       "0.8826906681060791"
      ]
     },
     "execution_count": 6,
     "metadata": {},
     "output_type": "execute_result"
    }
   ],
   "source": [
    "import numpy as np\n",
    "import onnxruntime as rt\n",
    "\n",
    "session = rt.InferenceSession('sentiment.onnx')\n",
    "input_name = session.get_inputs()[0].name\n",
    "label_name = session.get_outputs()[1].name # 0 = predict, 1 = predict_proba\n",
    "\n",
    "input = np.array('Great food and excellent service!').reshape(1, -1)\n",
    "session.run([label_name], { input_name: input })[0][0][1]"
   ]
  },
  {
   "cell_type": "markdown",
   "metadata": {},
   "source": [
    "A model saved in an ONNX file can loaded and consumed in other languages, too, including C, C++, C#, Java, and JavaScript."
   ]
  }
 ],
 "metadata": {
  "kernelspec": {
   "display_name": "Python 3",
   "language": "python",
   "name": "python3"
  },
  "language_info": {
   "codemirror_mode": {
    "name": "ipython",
    "version": 3
   },
   "file_extension": ".py",
   "mimetype": "text/x-python",
   "name": "python",
   "nbconvert_exporter": "python",
   "pygments_lexer": "ipython3",
   "version": "3.8.5"
  }
 },
 "nbformat": 4,
 "nbformat_minor": 4
}
