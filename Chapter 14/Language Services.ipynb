{
 "cells": [
  {
   "cell_type": "markdown",
   "metadata": {},
   "source": [
    "# Azure Cognitive Services Language Services"
   ]
  },
  {
   "cell_type": "code",
   "execution_count": 1,
   "metadata": {},
   "outputs": [],
   "source": [
    "from azure.core.credentials import AzureKeyCredential\n",
    "from azure.ai.textanalytics import TextAnalyticsClient\n",
    "\n",
    "client = TextAnalyticsClient('ANALTYICS_ENDPOINT', AzureKeyCredential('ANALYTICS_KEY'))"
   ]
  },
  {
   "cell_type": "code",
   "execution_count": 2,
   "metadata": {},
   "outputs": [
    {
     "name": "stdout",
     "output_type": "stream",
     "text": [
      "{'positive': 0.85, 'neutral': 0.03, 'negative': 0.12}\n"
     ]
    }
   ],
   "source": [
    "input = [{ 'id': '1000', 'text': 'Programming is fun, but the hours are long' }]\n",
    "response = client.analyze_sentiment(input)\n",
    "\n",
    "for result in response:\n",
    "    print(result.confidence_scores)"
   ]
  },
  {
   "cell_type": "code",
   "execution_count": 3,
   "metadata": {},
   "outputs": [
    {
     "name": "stdout",
     "output_type": "stream",
     "text": [
      "{'positive': 0.85, 'neutral': 0.03, 'negative': 0.12}\n"
     ]
    }
   ],
   "source": [
    "from azure.core.exceptions import AzureError\n",
    "\n",
    "try:\n",
    "    input = [{ 'id': '1000', 'text': 'Programming is fun, but the hours are long' }]\n",
    "    response = client.analyze_sentiment(input)\n",
    "\n",
    "    for result in response:\n",
    "        print(result.confidence_scores)\n",
    "        \n",
    "except AzureError as e:\n",
    "    print(e.message)"
   ]
  },
  {
   "cell_type": "code",
   "execution_count": 4,
   "metadata": {},
   "outputs": [
    {
     "name": "stdout",
     "output_type": "stream",
     "text": [
      "Programming is fun, but the hours are long => 0.85\n",
      "Great food and excellent service => 1.0\n",
      "The product worked as advertised but is overpriced => 0.01\n",
      "Moving to the cloud was the best decision we ever made => 0.99\n",
      "Programming is so fun I'd do it for free. Don't tell my boss! => 0.99\n"
     ]
    }
   ],
   "source": [
    "input = [\n",
    "    { 'id': '1000', 'text': 'Programming is fun, but the hours are long' },\n",
    "    { 'id': '1001', 'text': 'Great food and excellent service' },\n",
    "    { 'id': '1002', 'text': 'The product worked as advertised but is overpriced' },\n",
    "    { 'id': '1003', 'text': 'Moving to the cloud was the best decision we ever made' },\n",
    "    { 'id': '1004', 'text': 'Programming is so fun I\\'d do it for free. Don\\'t tell my boss!' }\n",
    "]\n",
    "\n",
    "response = client.analyze_sentiment(input)\n",
    "\n",
    "for result in response:\n",
    "    text = ''.join([x.text for x in result.sentences])\n",
    "    print(f'{text} => {result.confidence_scores.positive}')"
   ]
  },
  {
   "cell_type": "code",
   "execution_count": 5,
   "metadata": {},
   "outputs": [
    {
     "name": "stdout",
     "output_type": "stream",
     "text": [
      "printer (Product)\n",
      "IT (Skill)\n",
      "office (Location)\n"
     ]
    }
   ],
   "source": [
    "documents = [\n",
    "    'My printer isn\\'t working. Can someone from IT come to my office \\\n",
    "    and have a look?'\n",
    "]\n",
    "\n",
    "results = client.recognize_entities(documents)\n",
    "\n",
    "for result in results:\n",
    "    for entity in result.entities:\n",
    "        print(f'{entity.text} ({entity.category})')"
   ]
  },
  {
   "cell_type": "code",
   "execution_count": 6,
   "metadata": {},
   "outputs": [
    {
     "name": "stdout",
     "output_type": "stream",
     "text": [
      "Natural Language Processing\n",
      "language translation\n",
      "text classification\n",
      "keyword extraction\n",
      "question answering\n",
      "NLP\n",
      "variety\n",
      "activities\n",
      "recognition\n"
     ]
    }
   ],
   "source": [
    "documents = [\n",
    "    'Natural Language Processing, or NLP, encompasses a variety of activities \\\n",
    "    including text classification, keyword extraction, named-entity recognition, \\\n",
    "    question answering, and language translation.'\n",
    "]\n",
    "\n",
    "results = client.extract_key_phrases(documents)\n",
    "\n",
    "for result in results:\n",
    "    for phrase in result.key_phrases:\n",
    "        print(phrase)"
   ]
  },
  {
   "cell_type": "code",
   "execution_count": 7,
   "metadata": {},
   "outputs": [
    {
     "name": "stdout",
     "output_type": "stream",
     "text": [
      "fr\n"
     ]
    }
   ],
   "source": [
    "import requests\n",
    "\n",
    "headers = {\n",
    "    'Ocp-Apim-Subscription-Key': 'TRANSLATION_KEY',\n",
    "    'Ocp-Apim-Subscription-Region': 'TRANSLATION_REGION',\n",
    "    'Content-type': 'application/json'\n",
    "}\n",
    "\n",
    "input = [{ 'text': 'Quand votre nouveau livre sera-t-il disponible?' }]\n",
    "uri = 'TRANSLATION_ENDPOINT' + 'detect?api-version=3.0&to=en'\n",
    "response = requests.post(uri, headers=headers, json=input)\n",
    "results = response.json()\n",
    "\n",
    "print(results[0]['language'])"
   ]
  },
  {
   "cell_type": "code",
   "execution_count": 8,
   "metadata": {},
   "outputs": [
    {
     "name": "stdout",
     "output_type": "stream",
     "text": [
      "When will your new book be available?\n"
     ]
    }
   ],
   "source": [
    "input = [{ 'text': 'Quand votre nouveau livre sera-t-il disponible?' }]\n",
    "uri = 'TRANSLATION_ENDPOINT' + 'translate?api-version=3.0&to=en'\n",
    "response = requests.post(uri, headers=headers, json=input)\n",
    "results = response.json()\n",
    "\n",
    "print(results[0]['translations'][0]['text'])"
   ]
  }
 ],
 "metadata": {
  "kernelspec": {
   "display_name": "Python 3",
   "language": "python",
   "name": "python3"
  },
  "language_info": {
   "codemirror_mode": {
    "name": "ipython",
    "version": 3
   },
   "file_extension": ".py",
   "mimetype": "text/x-python",
   "name": "python",
   "nbconvert_exporter": "python",
   "pygments_lexer": "ipython3",
   "version": "3.8.5"
  }
 },
 "nbformat": 4,
 "nbformat_minor": 4
}
