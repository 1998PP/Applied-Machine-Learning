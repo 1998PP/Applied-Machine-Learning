{
 "cells": [
  {
   "cell_type": "markdown",
   "metadata": {},
   "source": [
    "# Azure Cognitive Services Speech Service"
   ]
  },
  {
   "cell_type": "code",
   "execution_count": 1,
   "metadata": {},
   "outputs": [],
   "source": [
    "from azure.cognitiveservices import speech\n",
    "\n",
    "speech_config = speech.SpeechConfig('SPEECH_KEY', 'SPEECH_REGION')\n",
    "speech_config.speech_synthesis_voice_name='en-US-JennyNeural'\n",
    "speech_config.speech_recognition_language='en-US'\n",
    "\n",
    "audio_config = speech.audio.AudioConfig(use_default_microphone=True)\n",
    "audio_config = speech.audio.AudioOutputConfig(use_default_speaker=True)"
   ]
  },
  {
   "cell_type": "code",
   "execution_count": 2,
   "metadata": {},
   "outputs": [
    {
     "name": "stdout",
     "output_type": "stream",
     "text": [
      "Speak into your microphone\n",
      "It is raining outside.\n"
     ]
    }
   ],
   "source": [
    "recognizer = speech.SpeechRecognizer(speech_config, audio_config)\n",
    "\n",
    "print('Speak into your microphone')\n",
    "result = recognizer.recognize_once_async().get()\n",
    "\n",
    "if result.reason == speech.ResultReason.RecognizedSpeech:\n",
    "    print(result.text)"
   ]
  },
  {
   "cell_type": "code",
   "execution_count": 3,
   "metadata": {},
   "outputs": [
    {
     "data": {
      "text/plain": [
       "<azure.cognitiveservices.speech.SpeechSynthesisResult at 0x2948b0ff070>"
      ]
     },
     "execution_count": 3,
     "metadata": {},
     "output_type": "execute_result"
    }
   ],
   "source": [
    "synthesizer = speech.SpeechSynthesizer(speech_config, audio_config)\n",
    "synthesizer.speak_text_async('When will your new book be published?').get()"
   ]
  },
  {
   "cell_type": "code",
   "execution_count": 5,
   "metadata": {},
   "outputs": [
    {
     "name": "stdout",
     "output_type": "stream",
     "text": [
      "Speak into your microphone\n"
     ]
    }
   ],
   "source": [
    "speech_config.speech_synthesis_voice_name='fr-FR-YvetteNeural'\n",
    "synthesizer = speech.SpeechSynthesizer(speech_config, audio_config)\n",
    "\n",
    "translation_config = speech.translation.SpeechTranslationConfig('SPEECH_KEY', 'SPEECH_REGION')\n",
    "translation_config.speech_recognition_language='en-US'\n",
    "translation_config.add_target_language('fr')\n",
    "\n",
    "recognizer = speech.translation.TranslationRecognizer(translation_config, audio_config)\n",
    "\n",
    "print('Speak into your microphone')\n",
    "result = recognizer.recognize_once_async().get()\n",
    "\n",
    "if result.reason == speech.ResultReason.TranslatedSpeech:\n",
    "    text = result.translations['fr']\n",
    "    synthesizer.speak_text_async(text).get()"
   ]
  }
 ],
 "metadata": {
  "kernelspec": {
   "display_name": "Python 3",
   "language": "python",
   "name": "python3"
  },
  "language_info": {
   "codemirror_mode": {
    "name": "ipython",
    "version": 3
   },
   "file_extension": ".py",
   "mimetype": "text/x-python",
   "name": "python",
   "nbconvert_exporter": "python",
   "pygments_lexer": "ipython3",
   "version": "3.8.5"
  }
 },
 "nbformat": 4,
 "nbformat_minor": 4
}
